

















import sys 
print(sys.version)





import random
x_list = [] #Create an empty list 
for i in range(10000):
    x_list.append(random.randint(1,99))






from statistics import mode 
print(f'The min of x_list is:  {min(x_list)}.')
print(f'The max of x_list is:  {max(x_list)}.')
print(f'The mode of x_list is:  {mode(x_list)}.')





def average_list(list):
    sum = 0
    for element in list: 
        sum += element
    average = (1.0) * sum / len(list)
    print(f'The average of x_list is:  {round(average, 2)}')
average_list(x_list)





x_hist = [0] * 10
for element in x_list: 
    x_hist[(element//10)] += 1 
print(x_hist)












import numpy as np
print(np.__version__)

















numpy_array = np.array(x_list)
histogram = np.histogram(numpy_array, bins = np.arange(0, 110, 10))
print(histogram)





x_list = np.array(x_list)
print(x_list[:20])





x_list_float32 = x_list.astype(np.float32)
print(x_list_float32)





zeros_array = np.zeros(10, dtype=int)
print(zeros_array)





three_by_four = np.ones((3,4))
print(three_by_four)





evenly_spaced = np.linspace(1,3,20)
print(evenly_spaced)





np.random.seed(12345)
x_mat = np.random.randint(10, 51, size=(10,5))
print(x_mat)





print(x_mat[[0,-1]])





print(x_mat[:, [0,2,4]])





print(np.sum(x_mat, axis=1))
