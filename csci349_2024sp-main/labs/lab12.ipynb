{
 "cells": [
  {
   "cell_type": "markdown",
   "metadata": {},
   "source": [
    "# Lab 12 – Hyperparameter tuning\n",
    "\n",
    "DUE: April 8, 2024 (Wed)  \n",
    "Pair Programming: Optional, but highly encouraged  \n",
    "Name(s): ???  \n",
    "Class: CSCI 349 - Intro to Data Mining  \n",
    "Section: 01\n",
    "Semester: Spring 2024  \n",
    "Instructors: Brian King, Joshua Stough  "
   ]
  },
  {
   "cell_type": "markdown",
   "metadata": {},
   "source": [
    "# Objectives\n",
    "\n",
    "This lab will introduce the student to understanding **hyperparameter tuning**. Specifically, the objectives are as follows:\n",
    "\n",
    "- Understand the impact of hyperparameters with model induction and performance\n",
    "- Learn to use the `GridSearchCV` class to find good parameters for your model\n",
    "\n",
    "--- \n",
    "# Background\n",
    "You were introduced to Keras deep learning framework in the last lab. You also learned how to use the Keras wrapper class, `KerasClassifier`, so that you could continue to use the wonderful **scikit-learn** framework for data mining and machine learning, leveraging Keras within the environment you know. You also learned that there are an enormous number of parameters to consider to get a good result! Yeah, you could do it manually by creating multiple loops to evaluate different model parameters (and lose all your hair... maybe that was it) or you could use scikit-learn's framework to do this.\n",
    "\n",
    "## What is hyperparameter tuning\n",
    "The real focus of this lab is to learn how to use the **scikit-learn** framework to assist you with hyperparameter tuning.  Every machine learning model has parameters that control model induction. They are generally referred to hyperparamters, and you need to optimize them for your given problem. The parameters usually come down to figuring out how to control the complexity of your model such that it is able to learn from your data, but not overfit. (Recall our bias vs. variance tradeoff discussion!) Understanding this is critical. Understanding how to address it is even better, and is an important skill to learn. You will in this lab.\n",
    "\n",
    "Generally, there are two approaches you can take to hyperparameter tuning. You could write an enormous number of loops yourself to track the model parameters you are experimenting with and keep track of the model performances coming from each parameter set. Or, you can use a grid search framework to search for the parameters. That's the purpose of scikit-learn's `GridSearchCV` class.\n",
    "\n",
    ">WARNING: Hyperparameter tuning can use a LOT of computational resources, both CPU and memory! Depending on how you set up your test, and the complexity of the model being evaluated, you could be waiting days for a result! So, ALWAYS start with a simple setup (small data sample, limited number of parameters to test) before you run an exhaustive grid search for your optimal parameters!\n",
    "\n",
    "## Preparing for this lab\n",
    "\n",
    "Some of this lab is modeled after some code given in a few different web sites, and you might get more out of the lab by taking a few minutes to skim through these pages, just to understand the framework you are going to be using to perform a grid-search for optimal hyperparameters. You might even want to just keep these pages open in your browser.\n",
    "\n",
    "- First, the most important page you'll need is the reference to GridSearchCV: \n",
    "    - [https://scikit-learn.org/stable/modules/generated/sklearn.model_selection.GridSearchCV.html](https://scikit-learn.org/stable/modules/generated/sklearn.model_selection.GridSearchCV.html)\n",
    "- The best example code can be found right on the scikit-learn site:\n",
    "    - [https://scikit-learn.org/stable/auto_examples/model_selection/plot_grid_search_digits.html](https://scikit-learn.org/stable/auto_examples/model_selection/plot_grid_search_digits.html)\n",
    "- The user guide has an exhaustive writeup covering the topic of hyper-parameter tuning. This has a *lot* of good information, some of which is far more advanced than anything you need at this time:\n",
    "    - [https://scikit-learn.org/stable/modules/grid_search.html](https://scikit-learn.org/stable/modules/grid_search.html)\n",
    "- The following page illustrates a bit simpler code to get you started, however, note that it uses the `Sequential` model, vs. using the *Functional API*:\n",
    "    - [https://machinelearningmastery.com/use-keras-deep-learning-models-scikit-learn-python/](https://machinelearningmastery.com/use-keras-deep-learning-models-scikit-learn-python/).\n",
    "\n",
    "That's it!"
   ]
  },
  {
   "cell_type": "code",
   "execution_count": 145,
   "metadata": {},
   "outputs": [],
   "source": [
    "import numpy as np\n",
    "import pandas as pd\n",
    "import seaborn as sns\n",
    "import matplotlib.pyplot as plt\n",
    "from sklearn.model_selection import train_test_split, KFold\n",
    "from sklearn.utils import shuffle\n",
    "from sklearn.metrics import classification_report, confusion_matrix\n",
    "from sklearn.model_selection import cross_validate, cross_val_predict\n",
    "from sklearn.model_selection import GridSearchCV\n",
    "\n",
    "from sklearn.preprocessing import StandardScaler\n",
    "from sklearn.tree import DecisionTreeClassifier\n",
    "\n",
    "import tensorflow as tf\n",
    "from tensorflow import keras\n",
    "from keras import Input, Model\n",
    "from keras.layers import Dense, Activation\n",
    "from keras.optimizers import Adam, SGD\n",
    "from scikeras.wrappers import KerasClassifier"
   ]
  },
  {
   "cell_type": "code",
   "execution_count": 146,
   "metadata": {},
   "outputs": [
    {
     "name": "stdout",
     "output_type": "stream",
     "text": [
      "2.10.0\n"
     ]
    }
   ],
   "source": [
    "print(tf.__version__)"
   ]
  },
  {
   "cell_type": "code",
   "execution_count": 147,
   "metadata": {},
   "outputs": [
    {
     "name": "stdout",
     "output_type": "stream",
     "text": [
      "2.10.0\n"
     ]
    }
   ],
   "source": [
    "print(keras.__version__)"
   ]
  },
  {
   "cell_type": "markdown",
   "metadata": {},
   "source": [
    "***\n",
    "# The classic Wine dataset\n",
    "There have been *many* datasets appearing over the past 15 years or so that attempt to try and capture numerous objective measures to characterize wine. An often-used dataset for classification exercises is the infamous wine dataset from the early 1990s. Not quite as popular as iris, but pretty close. It's a bit more complex than iris, with 13 variables and 1 target multi-class variable. As far as I know, there is no model that has obtained near 100% accuracy on validation. However, we can usually get in the mid 90s on the best models.\n",
    "\n",
    "### Reading in the wine data\n",
    "\n",
    "Open the following page:\n",
    "* [https://archive.ics.uci.edu/ml/datasets/wine](https://archive.ics.uci.edu/ml/datasets/wine)\n",
    "\n",
    "This page will give you the data and the information you need to start this lab.  (If you prefer, it is also one of the built-in datasets available in `sklearn.datasets` package (see [https://scikit-learn.org/stable/modules/generated/sklearn.datasets.load_wine.html](https://scikit-learn.org/stable/modules/generated/sklearn.datasets.load_wine.html) ). Either way, you need to first convert this to a pandas data frame.\n",
    "\n",
    "The following snippet of code will read in the data directly from the UCI machine learning site, as a data frame in its raw form:\n",
    "\n",
    "```\n",
    "names = [\"target\",\"alcohol\",\"malic_acid\",\"ash\",\"alcalinity\",\"Mg\",\"tot_phenols\",\"flavanoids\",\n",
    "         \"non_flav_phenols\",\"proanthocyanins\",\"color_intensity\",\n",
    "         \"hue\",\"OD\",\"proline\"]\n",
    "\n",
    "df_wine = pd.read_csv('https://archive.ics.uci.edu/ml/machine-learning-databases/wine/wine.data',header=None,names=names)\n",
    "```\n",
    "\n",
    "This is the first lab that is provided as an unanswered .ipynb file to help you focus on the work and not get caught up in dealing with formatting. You've got the formatting down, so focus on really absorbing this material. This is using some advanced techniques that anyone who actually works in this field will want to know fluently and be ready to discuss. This lab is a culminating experience that represents the type of analyses you will do if you do this type of work in \"the real world.\" And likewise, this is a bit more \"hands off\" than the previous lab was. On the bright side, I chose a dataset that has  many, many published examples already that demonstrate reading and modeling these exact data.\n",
    "\n",
    ">NOTE: As usual, with all of the popular datasets, there are many examples available online that can help you understand the data, clean the data, generate EDA plots to understand the distributions, etc. I encourage you to search for code to generate some reasonable plots with these data! (And, include all URLs that you use!)"
   ]
  },
  {
   "cell_type": "markdown",
   "metadata": {},
   "source": [
    "***\n",
    "**1)** Read in the wine data frame using the code given above. It also gives you the names of the variables, which should be the same as the data information given on the UCI web page. Store your result as `df_wine`."
   ]
  },
  {
   "cell_type": "code",
   "execution_count": 148,
   "metadata": {},
   "outputs": [],
   "source": [
    "names = [\"target\",\"alcohol\",\"malic_acid\",\"ash\",\"alcalinity\",\"Mg\",\"tot_phenols\",\"flavanoids\",\n",
    "         \"non_flav_phenols\",\"proanthocyanins\",\"color_intensity\",\n",
    "         \"hue\",\"OD\",\"proline\"]\n",
    "\n",
    "df_wine = pd.read_csv('https://archive.ics.uci.edu/ml/machine-learning-databases/wine/wine.data',header=None,names=names)\n",
    "\n"
   ]
  },
  {
   "cell_type": "markdown",
   "metadata": {},
   "source": [
    "***\n",
    "**2)** Prepare your data. Over multiple code cells, minimally, you should be reporting:\n",
    "- `shape`, `info()`, etc\n",
    "- Cast the type of each variables into its most correct type, paying special attention to the target class (which is coincidentally called `target`, and should be a categorical variable). Fortunately, these are already going to read in mostly correct.\n",
    "- Report on any missing data. (There shouldn't be any.)\n",
    "- Show the `head()` of the data frame\n",
    "\n"
   ]
  },
  {
   "cell_type": "code",
   "execution_count": 149,
   "metadata": {},
   "outputs": [
    {
     "name": "stdout",
     "output_type": "stream",
     "text": [
      "(178, 14)\n",
      "<class 'pandas.core.frame.DataFrame'>\n",
      "RangeIndex: 178 entries, 0 to 177\n",
      "Data columns (total 14 columns):\n",
      " #   Column            Non-Null Count  Dtype   \n",
      "---  ------            --------------  -----   \n",
      " 0   target            178 non-null    category\n",
      " 1   alcohol           178 non-null    float64 \n",
      " 2   malic_acid        178 non-null    float64 \n",
      " 3   ash               178 non-null    float64 \n",
      " 4   alcalinity        178 non-null    float64 \n",
      " 5   Mg                178 non-null    int64   \n",
      " 6   tot_phenols       178 non-null    float64 \n",
      " 7   flavanoids        178 non-null    float64 \n",
      " 8   non_flav_phenols  178 non-null    float64 \n",
      " 9   proanthocyanins   178 non-null    float64 \n",
      " 10  color_intensity   178 non-null    float64 \n",
      " 11  hue               178 non-null    float64 \n",
      " 12  OD                178 non-null    float64 \n",
      " 13  proline           178 non-null    int64   \n",
      "dtypes: category(1), float64(11), int64(2)\n",
      "memory usage: 18.5 KB\n",
      "None\n",
      "Missing Values\n",
      "target              0\n",
      "alcohol             0\n",
      "malic_acid          0\n",
      "ash                 0\n",
      "alcalinity          0\n",
      "Mg                  0\n",
      "tot_phenols         0\n",
      "flavanoids          0\n",
      "non_flav_phenols    0\n",
      "proanthocyanins     0\n",
      "color_intensity     0\n",
      "hue                 0\n",
      "OD                  0\n",
      "proline             0\n",
      "dtype: int64\n",
      "  target  alcohol  malic_acid   ash  alcalinity   Mg  tot_phenols  flavanoids  \\\n",
      "0      1    14.23        1.71  2.43        15.6  127         2.80        3.06   \n",
      "1      1    13.20        1.78  2.14        11.2  100         2.65        2.76   \n",
      "2      1    13.16        2.36  2.67        18.6  101         2.80        3.24   \n",
      "3      1    14.37        1.95  2.50        16.8  113         3.85        3.49   \n",
      "4      1    13.24        2.59  2.87        21.0  118         2.80        2.69   \n",
      "\n",
      "   non_flav_phenols  proanthocyanins  color_intensity   hue    OD  proline  \n",
      "0              0.28             2.29             5.64  1.04  3.92     1065  \n",
      "1              0.26             1.28             4.38  1.05  3.40     1050  \n",
      "2              0.30             2.81             5.68  1.03  3.17     1185  \n",
      "3              0.24             2.18             7.80  0.86  3.45     1480  \n",
      "4              0.39             1.82             4.32  1.04  2.93      735  \n"
     ]
    }
   ],
   "source": [
    "print(df_wine.shape)\n",
    "df_wine['target'] = df_wine['target'].astype('category')\n",
    "print(df_wine.info())\n",
    "print(\"Missing Values\")\n",
    "print(df_wine.isnull().sum())\n",
    "print(df_wine.head())\n"
   ]
  },
  {
   "cell_type": "markdown",
   "metadata": {},
   "source": [
    "***\n",
    "**3)**\n",
    "We're going to perform the essential task of EDA. First, *numerically* (not visually or graphically) summarize your data. Minimally, you at least want to:\n",
    "* Output `describe()`\n",
    "* Report the table of counts of the target variable\n",
    "* Show the means of each variable, grouped by target value"
   ]
  },
  {
   "cell_type": "code",
   "execution_count": 150,
   "metadata": {},
   "outputs": [
    {
     "name": "stdout",
     "output_type": "stream",
     "text": [
      "          alcohol  malic_acid         ash  alcalinity          Mg  \\\n",
      "count  178.000000  178.000000  178.000000  178.000000  178.000000   \n",
      "mean    13.000618    2.336348    2.366517   19.494944   99.741573   \n",
      "std      0.811827    1.117146    0.274344    3.339564   14.282484   \n",
      "min     11.030000    0.740000    1.360000   10.600000   70.000000   \n",
      "25%     12.362500    1.602500    2.210000   17.200000   88.000000   \n",
      "50%     13.050000    1.865000    2.360000   19.500000   98.000000   \n",
      "75%     13.677500    3.082500    2.557500   21.500000  107.000000   \n",
      "max     14.830000    5.800000    3.230000   30.000000  162.000000   \n",
      "\n",
      "       tot_phenols  flavanoids  non_flav_phenols  proanthocyanins  \\\n",
      "count   178.000000  178.000000        178.000000       178.000000   \n",
      "mean      2.295112    2.029270          0.361854         1.590899   \n",
      "std       0.625851    0.998859          0.124453         0.572359   \n",
      "min       0.980000    0.340000          0.130000         0.410000   \n",
      "25%       1.742500    1.205000          0.270000         1.250000   \n",
      "50%       2.355000    2.135000          0.340000         1.555000   \n",
      "75%       2.800000    2.875000          0.437500         1.950000   \n",
      "max       3.880000    5.080000          0.660000         3.580000   \n",
      "\n",
      "       color_intensity         hue          OD      proline  \n",
      "count       178.000000  178.000000  178.000000   178.000000  \n",
      "mean          5.058090    0.957449    2.611685   746.893258  \n",
      "std           2.318286    0.228572    0.709990   314.907474  \n",
      "min           1.280000    0.480000    1.270000   278.000000  \n",
      "25%           3.220000    0.782500    1.937500   500.500000  \n",
      "50%           4.690000    0.965000    2.780000   673.500000  \n",
      "75%           6.200000    1.120000    3.170000   985.000000  \n",
      "max          13.000000    1.710000    4.000000  1680.000000  \n",
      "target\n",
      "2    71\n",
      "1    59\n",
      "3    48\n",
      "Name: count, dtype: int64\n",
      "          alcohol  malic_acid       ash  alcalinity          Mg  tot_phenols  \\\n",
      "target                                                                         \n",
      "1       13.744746    2.010678  2.455593   17.037288  106.338983     2.840169   \n",
      "2       12.278732    1.932676  2.244789   20.238028   94.549296     2.258873   \n",
      "3       13.153750    3.333750  2.437083   21.416667   99.312500     1.678750   \n",
      "\n",
      "        flavanoids  non_flav_phenols  proanthocyanins  color_intensity  \\\n",
      "target                                                                   \n",
      "1         2.982373          0.290000         1.899322         5.528305   \n",
      "2         2.080845          0.363662         1.630282         3.086620   \n",
      "3         0.781458          0.447500         1.153542         7.396250   \n",
      "\n",
      "             hue        OD      proline  \n",
      "target                                   \n",
      "1       1.062034  3.157797  1115.711864  \n",
      "2       1.056282  2.785352   519.507042  \n",
      "3       0.682708  1.683542   629.895833  \n"
     ]
    }
   ],
   "source": [
    "print(df_wine.describe())\n",
    "print(df_wine['target'].value_counts())\n",
    "print(df_wine.groupby('target', observed=False).mean())\n"
   ]
  },
  {
   "cell_type": "markdown",
   "metadata": {},
   "source": [
    "***\n",
    "**4)** Now, provide at least 3 plots of your own choosing to help visually and graphically understand the distributions of your variables. It's entirely up to you to choose and design the plots to convey important information about your data. Some ideas I always start with:\n",
    "* A barchart of the target variable counts\n",
    "* A boxplot of each numeric variable. Even better is a boxplot that uses a color (hue) for each target value\n",
    "* Density or histogram (e.g. seaborn `kdeplot`) plots of each variable, colored by target. (HINT - `sns.FacetGrid` is ideal for this.)\n",
    "* A pairwise correlation heatmap visualizing the variable correlations\n",
    "* A Seaborn `pairplot`. (However, with 13 predictor variables and one target, this can get unweldy, not to mention it can take some time to generate it. Try it, and then determine if it'd be better to just select a subset of variables."
   ]
  },
  {
   "cell_type": "code",
   "execution_count": 151,
   "metadata": {},
   "outputs": [
    {
     "data": {
      "text/html": [
       "<div>\n",
       "<style scoped>\n",
       "    .dataframe tbody tr th:only-of-type {\n",
       "        vertical-align: middle;\n",
       "    }\n",
       "\n",
       "    .dataframe tbody tr th {\n",
       "        vertical-align: top;\n",
       "    }\n",
       "\n",
       "    .dataframe thead th {\n",
       "        text-align: right;\n",
       "    }\n",
       "</style>\n",
       "<table border=\"1\" class=\"dataframe\">\n",
       "  <thead>\n",
       "    <tr style=\"text-align: right;\">\n",
       "      <th></th>\n",
       "      <th>target</th>\n",
       "      <th>variable</th>\n",
       "      <th>value</th>\n",
       "    </tr>\n",
       "  </thead>\n",
       "  <tbody>\n",
       "    <tr>\n",
       "      <th>0</th>\n",
       "      <td>1</td>\n",
       "      <td>alcohol</td>\n",
       "      <td>14.23</td>\n",
       "    </tr>\n",
       "    <tr>\n",
       "      <th>1</th>\n",
       "      <td>1</td>\n",
       "      <td>alcohol</td>\n",
       "      <td>13.20</td>\n",
       "    </tr>\n",
       "    <tr>\n",
       "      <th>2</th>\n",
       "      <td>1</td>\n",
       "      <td>alcohol</td>\n",
       "      <td>13.16</td>\n",
       "    </tr>\n",
       "    <tr>\n",
       "      <th>3</th>\n",
       "      <td>1</td>\n",
       "      <td>alcohol</td>\n",
       "      <td>14.37</td>\n",
       "    </tr>\n",
       "    <tr>\n",
       "      <th>4</th>\n",
       "      <td>1</td>\n",
       "      <td>alcohol</td>\n",
       "      <td>13.24</td>\n",
       "    </tr>\n",
       "  </tbody>\n",
       "</table>\n",
       "</div>"
      ],
      "text/plain": [
       "  target variable  value\n",
       "0      1  alcohol  14.23\n",
       "1      1  alcohol  13.20\n",
       "2      1  alcohol  13.16\n",
       "3      1  alcohol  14.37\n",
       "4      1  alcohol  13.24"
      ]
     },
     "execution_count": 151,
     "metadata": {},
     "output_type": "execute_result"
    }
   ],
   "source": [
    "# This might be helpful?\n",
    "df_wine_melt = df_wine.melt(id_vars=['target'])\n",
    "df_wine_melt.head()"
   ]
  },
  {
   "cell_type": "code",
   "execution_count": 152,
   "metadata": {},
   "outputs": [
    {
     "name": "stderr",
     "output_type": "stream",
     "text": [
      "/Users/samuelbaldwin/anaconda3/envs/csci349/lib/python3.10/site-packages/seaborn/axisgrid.py:712: UserWarning: Using the boxplot function without specifying `order` is likely to produce an incorrect plot.\n",
      "  warnings.warn(warning)\n",
      "/Users/samuelbaldwin/anaconda3/envs/csci349/lib/python3.10/site-packages/seaborn/categorical.py:641: FutureWarning: The default of observed=False is deprecated and will be changed to True in a future version of pandas. Pass observed=False to retain current behavior or observed=True to adopt the future default and silence this warning.\n",
      "  grouped_vals = vals.groupby(grouper)\n",
      "/Users/samuelbaldwin/anaconda3/envs/csci349/lib/python3.10/site-packages/seaborn/categorical.py:641: FutureWarning: The default of observed=False is deprecated and will be changed to True in a future version of pandas. Pass observed=False to retain current behavior or observed=True to adopt the future default and silence this warning.\n",
      "  grouped_vals = vals.groupby(grouper)\n",
      "/Users/samuelbaldwin/anaconda3/envs/csci349/lib/python3.10/site-packages/seaborn/categorical.py:641: FutureWarning: The default of observed=False is deprecated and will be changed to True in a future version of pandas. Pass observed=False to retain current behavior or observed=True to adopt the future default and silence this warning.\n",
      "  grouped_vals = vals.groupby(grouper)\n"
     ]
    },
    {
     "data": {
      "text/plain": [
       "<seaborn.axisgrid.FacetGrid at 0x1417b7a90>"
      ]
     },
     "execution_count": 152,
     "metadata": {},
     "output_type": "execute_result"
    },
    {
     "data": {
      "image/png": "[encoded data removed]",
      "text/plain": [
       "<Figure size 900x300 with 3 Axes>"
      ]
     },
     "metadata": {},
     "output_type": "display_data"
    }
   ],
   "source": [
    "g = sns.FacetGrid(df_wine, col=\"target\", height=3, aspect=1)\n",
    "g.map(sns.boxplot, 'target', 'alcohol')\n"
   ]
  },
  {
   "cell_type": "code",
   "execution_count": null,
   "metadata": {},
   "outputs": [],
   "source": []
  },
  {
   "cell_type": "code",
   "execution_count": null,
   "metadata": {},
   "outputs": [],
   "source": []
  },
  {
   "cell_type": "markdown",
   "metadata": {},
   "source": [
    "**4b)** [M] Here is a heatmap. Run the cell and examine the output. Study and interpret what it's conveying."
   ]
  },
  {
   "cell_type": "markdown",
   "metadata": {},
   "source": []
  },
  {
   "cell_type": "code",
   "execution_count": 153,
   "metadata": {},
   "outputs": [
    {
     "data": {
      "text/plain": [
       "<Axes: >"
      ]
     },
     "execution_count": 153,
     "metadata": {},
     "output_type": "execute_result"
    },
    {
     "data": {
      "image/png": "[encoded data removed]",
      "text/plain": [
       "<Figure size 1000x800 with 2 Axes>"
      ]
     },
     "metadata": {},
     "output_type": "display_data"
    }
   ],
   "source": [
    "plt.figure(figsize=(10,8))\n",
    "sns.heatmap(df_wine.corr(),\n",
    "            center=0, vmin=-1, vmax=1, cmap=\"coolwarm\",\n",
    "            annot=True, fmt=\".2f\")"
   ]
  },
  {
   "cell_type": "markdown",
   "metadata": {},
   "source": [
    "ANSWER:\n",
    "This plot examines how correlated each combination of variables is to each other, demonstrating the relative relationships between given variables. This helps us visualize how much two given variables may be related which we can use to inform possible choices about using data for training. "
   ]
  },
  {
   "cell_type": "markdown",
   "metadata": {},
   "source": [
    "**4c)** [M] Look up Seaborn's clustermap function. What is this conveying? Are there similarities to the previous heatmap? (This is a bit of a taste of our last topic we will soon cover on clustering.) [https://seaborn.pydata.org/generated/seaborn.clustermap.html#seaborn.clustermap](https://seaborn.pydata.org/generated/seaborn.clustermap.html#seaborn.clustermap)"
   ]
  },
  {
   "cell_type": "code",
   "execution_count": 154,
   "metadata": {},
   "outputs": [
    {
     "data": {
      "text/plain": [
       "<seaborn.matrix.ClusterGrid at 0x1417b7bb0>"
      ]
     },
     "execution_count": 154,
     "metadata": {},
     "output_type": "execute_result"
    },
    {
     "data": {
      "image/png": "[encoded data removed]",
      "text/plain": [
       "<Figure size 900x1500 with 4 Axes>"
      ]
     },
     "metadata": {},
     "output_type": "display_data"
    }
   ],
   "source": [
    "sns.clustermap(df_wine.iloc[:,1:],row_cluster=True,col_cluster=True,\n",
    "               z_score=1,metric=\"correlation\",\n",
    "               figsize=(9,15))"
   ]
  },
  {
   "cell_type": "markdown",
   "metadata": {},
   "source": [
    "ANSWER:\n",
    "Instead of just showing the variables, the clustermap shows the relationships between individual rows and columns to demonstrate how similar given rows are. "
   ]
  },
  {
   "cell_type": "markdown",
   "metadata": {},
   "source": [
    "***\n",
    "**5)**\tSet up your `X` and `y` data frames to prepare for your modeling steps. Be sure to normalize your `X` variables. (Use z-score transform. Any approach will do, but `StandardScaler()` keeps in you the scikit-learn world.) Be sure to create a binarized version of `y` as well, called `y_bin` or `y_ohe`. Just don't delete the original `y`. Be sure you shuffle your data.\n",
    "\n",
    "NOTE: You'll need both types of y. Some classifiers work great on single target variables that are multi-class such as these data. However, others do not. You'll needed the binarized variable for neural nets! Remember, binarization is important for classifiers such as neural nets when you are working with a target variable that is multi-class (i.e. more than two labels). "
   ]
  },
  {
   "cell_type": "code",
   "execution_count": 155,
   "metadata": {},
   "outputs": [
    {
     "name": "stdout",
     "output_type": "stream",
     "text": [
      "      alcohol  malic_acid       ash  alcalinity        Mg  tot_phenols  \\\n",
      "54   0.913333   -0.598156 -0.425909   -0.929365  1.281985     0.488531   \n",
      "151 -0.260169    0.299507  0.414820    0.752231  0.860705    -1.306080   \n",
      "63  -0.778980   -1.082894 -0.754890   -0.148624 -0.894628     1.930629   \n",
      "55   0.690985   -0.544297  0.341713    0.301803  1.141558     1.065370   \n",
      "123  0.061000    3.109192 -0.864550    0.602088 -0.964842     0.520578   \n",
      "\n",
      "     flavanoids  non_flav_phenols  proanthocyanins  color_intensity       hue  \\\n",
      "54     0.874184         -1.223610         0.050988         0.342557 -0.164303   \n",
      "151   -0.671924         -0.981875        -0.579763         2.483778 -2.094732   \n",
      "63     1.074978         -1.384766         0.489009        -0.263041  1.151898   \n",
      "55     0.753708         -1.304188         1.505217         0.515585  0.098937   \n",
      "123    0.623193         -0.498407         0.734300        -1.063296 -0.997898   \n",
      "\n",
      "           OD   proline  \n",
      "54   0.830961  0.997086  \n",
      "151 -1.612565 -0.849920  \n",
      "63   0.364855 -1.040990  \n",
      "55   0.590845  1.188156  \n",
      "123  0.689716 -1.168369  \n",
      "<bound method NDFrame.head of 54     1\n",
      "151    3\n",
      "63     2\n",
      "55     1\n",
      "123    2\n",
      "      ..\n",
      "103    2\n",
      "67     2\n",
      "117    2\n",
      "47     1\n",
      "172    3\n",
      "Name: target, Length: 178, dtype: category\n",
      "Categories (3, int64): [1, 2, 3]>\n"
     ]
    },
    {
     "data": {
      "text/html": [
       "<div>\n",
       "<style scoped>\n",
       "    .dataframe tbody tr th:only-of-type {\n",
       "        vertical-align: middle;\n",
       "    }\n",
       "\n",
       "    .dataframe tbody tr th {\n",
       "        vertical-align: top;\n",
       "    }\n",
       "\n",
       "    .dataframe thead th {\n",
       "        text-align: right;\n",
       "    }\n",
       "</style>\n",
       "<table border=\"1\" class=\"dataframe\">\n",
       "  <thead>\n",
       "    <tr style=\"text-align: right;\">\n",
       "      <th></th>\n",
       "      <th>1</th>\n",
       "      <th>2</th>\n",
       "      <th>3</th>\n",
       "    </tr>\n",
       "  </thead>\n",
       "  <tbody>\n",
       "    <tr>\n",
       "      <th>54</th>\n",
       "      <td>True</td>\n",
       "      <td>False</td>\n",
       "      <td>False</td>\n",
       "    </tr>\n",
       "    <tr>\n",
       "      <th>151</th>\n",
       "      <td>False</td>\n",
       "      <td>False</td>\n",
       "      <td>True</td>\n",
       "    </tr>\n",
       "    <tr>\n",
       "      <th>63</th>\n",
       "      <td>False</td>\n",
       "      <td>True</td>\n",
       "      <td>False</td>\n",
       "    </tr>\n",
       "    <tr>\n",
       "      <th>55</th>\n",
       "      <td>True</td>\n",
       "      <td>False</td>\n",
       "      <td>False</td>\n",
       "    </tr>\n",
       "    <tr>\n",
       "      <th>123</th>\n",
       "      <td>False</td>\n",
       "      <td>True</td>\n",
       "      <td>False</td>\n",
       "    </tr>\n",
       "  </tbody>\n",
       "</table>\n",
       "</div>"
      ],
      "text/plain": [
       "         1      2      3\n",
       "54    True  False  False\n",
       "151  False  False   True\n",
       "63   False   True  False\n",
       "55    True  False  False\n",
       "123  False   True  False"
      ]
     },
     "execution_count": 155,
     "metadata": {},
     "output_type": "execute_result"
    }
   ],
   "source": [
    "from scipy.stats import zscore\n",
    "\n",
    "x = df_wine.iloc[:, 1:]\n",
    "y = df_wine[\"target\"]\n",
    "x = x.apply(zscore)\n",
    "y_bin = pd.get_dummies(y)\n",
    "\n",
    "x = shuffle(x, random_state=0)\n",
    "y = shuffle(y, random_state=0)\n",
    "y_bin = shuffle(y_bin, random_state=0)\n",
    "\n",
    "print(x.head())\n",
    "print(y.head)\n",
    "y_bin.head()"
   ]
  },
  {
   "cell_type": "markdown",
   "metadata": {},
   "source": [
    "***\n",
    "\n",
    "## Decision Trees\n",
    "\n",
    "**6a)** Let's induce a basic Decision Tree Classifier (i.e. `DecisionTreeClassifier()`). Don't set any initial parameters. Let the default tree induction parameters be used. Evaluate the tree using a 5-fold cross validation. Perform a standard report of your class-wide performance metrics (i.e. using classification report, but specify 3 significant digits instead of the default of 2). You should have most of this code completed from a previous lab.\n",
    "\n",
    "What is the overall accuracy? Which class performs the best? The worst?"
   ]
  },
  {
   "cell_type": "code",
   "execution_count": 156,
   "metadata": {},
   "outputs": [
    {
     "data": {
      "text/html": [
       "<style>#sk-container-id-8 {color: black;}#sk-container-id-8 pre{padding: 0;}#sk-container-id-8 div.sk-toggleable {background-color: white;}#sk-container-id-8 label.sk-toggleable__label {cursor: pointer;display: block;width: 100%;margin-bottom: 0;padding: 0.3em;box-sizing: border-box;text-align: center;}#sk-container-id-8 label.sk-toggleable__label-arrow:before {content: \"▸\";float: left;margin-right: 0.25em;color: #696969;}#sk-container-id-8 label.sk-toggleable__label-arrow:hover:before {color: black;}#sk-container-id-8 div.sk-estimator:hover label.sk-toggleable__label-arrow:before {color: black;}#sk-container-id-8 div.sk-toggleable__content {max-height: 0;max-width: 0;overflow: hidden;text-align: left;background-color: #f0f8ff;}#sk-container-id-8 div.sk-toggleable__content pre {margin: 0.2em;color: black;border-radius: 0.25em;background-color: #f0f8ff;}#sk-container-id-8 input.sk-toggleable__control:checked~div.sk-toggleable__content {max-height: 200px;max-width: 100%;overflow: auto;}#sk-container-id-8 input.sk-toggleable__control:checked~label.sk-toggleable__label-arrow:before {content: \"▾\";}#sk-container-id-8 div.sk-estimator input.sk-toggleable__control:checked~label.sk-toggleable__label {background-color: #d4ebff;}#sk-container-id-8 div.sk-label input.sk-toggleable__control:checked~label.sk-toggleable__label {background-color: #d4ebff;}#sk-container-id-8 input.sk-hidden--visually {border: 0;clip: rect(1px 1px 1px 1px);clip: rect(1px, 1px, 1px, 1px);height: 1px;margin: -1px;overflow: hidden;padding: 0;position: absolute;width: 1px;}#sk-container-id-8 div.sk-estimator {font-family: monospace;background-color: #f0f8ff;border: 1px dotted black;border-radius: 0.25em;box-sizing: border-box;margin-bottom: 0.5em;}#sk-container-id-8 div.sk-estimator:hover {background-color: #d4ebff;}#sk-container-id-8 div.sk-parallel-item::after {content: \"\";width: 100%;border-bottom: 1px solid gray;flex-grow: 1;}#sk-container-id-8 div.sk-label:hover label.sk-toggleable__label {background-color: #d4ebff;}#sk-container-id-8 div.sk-serial::before {content: \"\";position: absolute;border-left: 1px solid gray;box-sizing: border-box;top: 0;bottom: 0;left: 50%;z-index: 0;}#sk-container-id-8 div.sk-serial {display: flex;flex-direction: column;align-items: center;background-color: white;padding-right: 0.2em;padding-left: 0.2em;position: relative;}#sk-container-id-8 div.sk-item {position: relative;z-index: 1;}#sk-container-id-8 div.sk-parallel {display: flex;align-items: stretch;justify-content: center;background-color: white;position: relative;}#sk-container-id-8 div.sk-item::before, #sk-container-id-8 div.sk-parallel-item::before {content: \"\";position: absolute;border-left: 1px solid gray;box-sizing: border-box;top: 0;bottom: 0;left: 50%;z-index: -1;}#sk-container-id-8 div.sk-parallel-item {display: flex;flex-direction: column;z-index: 1;position: relative;background-color: white;}#sk-container-id-8 div.sk-parallel-item:first-child::after {align-self: flex-end;width: 50%;}#sk-container-id-8 div.sk-parallel-item:last-child::after {align-self: flex-start;width: 50%;}#sk-container-id-8 div.sk-parallel-item:only-child::after {width: 0;}#sk-container-id-8 div.sk-dashed-wrapped {border: 1px dashed gray;margin: 0 0.4em 0.5em 0.4em;box-sizing: border-box;padding-bottom: 0.4em;background-color: white;}#sk-container-id-8 div.sk-label label {font-family: monospace;font-weight: bold;display: inline-block;line-height: 1.2em;}#sk-container-id-8 div.sk-label-container {text-align: center;}#sk-container-id-8 div.sk-container {/* jupyter's `normalize.less` sets `[hidden] { display: none; }` but bootstrap.min.css set `[hidden] { display: none !important; }` so we also need the `!important` here to be able to override the default hidden behavior on the sphinx rendered scikit-learn.org. See: https://github.com/scikit-learn/scikit-learn/issues/21755 */display: inline-block !important;position: relative;}#sk-container-id-8 div.sk-text-repr-fallback {display: none;}</style><div id=\"sk-container-id-8\" class=\"sk-top-container\"><div class=\"sk-text-repr-fallback\"><pre>DecisionTreeClassifier()</pre><b>In a Jupyter environment, please rerun this cell to show the HTML representation or trust the notebook. <br />On GitHub, the HTML representation is unable to render, please try loading this page with nbviewer.org.</b></div><div class=\"sk-container\" hidden><div class=\"sk-item\"><div class=\"sk-estimator sk-toggleable\"><input class=\"sk-toggleable__control sk-hidden--visually\" id=\"sk-estimator-id-8\" type=\"checkbox\" checked><label for=\"sk-estimator-id-8\" class=\"sk-toggleable__label sk-toggleable__label-arrow\">DecisionTreeClassifier</label><div class=\"sk-toggleable__content\"><pre>DecisionTreeClassifier()</pre></div></div></div></div></div>"
      ],
      "text/plain": [
       "DecisionTreeClassifier()"
      ]
     },
     "execution_count": 156,
     "metadata": {},
     "output_type": "execute_result"
    }
   ],
   "source": [
    "kf = KFold(n_splits = 5, random_state = 100, shuffle = True)\n",
    "\n",
    "df_results = pd.DataFrame(columns=[\"true\", \"pred\"])\n",
    "tree = DecisionTreeClassifier()\n",
    "true = []\n",
    "pred = []\n",
    "\n",
    "for i, (train_index, test_index) in enumerate(kf.split(x)):\n",
    "    X_train, X_test = x.iloc[train_index,:], x.iloc[test_index,:]\n",
    "    y_train, y_test = y.iloc[train_index], y.iloc[test_index]\n",
    "\n",
    "    tree.fit(X_train, y_train)\n",
    "\n",
    "    y_pred_test = tree.predict(X_test)\n",
    "\n",
    "    true = np.append(true, y_test)\n",
    "    pred = np.append(pred, y_pred_test)\n",
    "\n",
    "df_results.true = true\n",
    "df_results.pred = pred\n",
    "tree"
   ]
  },
  {
   "cell_type": "code",
   "execution_count": 157,
   "metadata": {},
   "outputs": [
    {
     "data": {
      "text/plain": [
       "<sklearn.metrics._plot.confusion_matrix.ConfusionMatrixDisplay at 0x141abd9c0>"
      ]
     },
     "execution_count": 157,
     "metadata": {},
     "output_type": "execute_result"
    },
    {
     "data": {
      "image/png": "[encoded data removed]",
      "text/plain": [
       "<Figure size 640x480 with 2 Axes>"
      ]
     },
     "metadata": {},
     "output_type": "display_data"
    }
   ],
   "source": [
    "from sklearn.metrics import ConfusionMatrixDisplay\n",
    "\n",
    "ConfusionMatrixDisplay(confusion_matrix(df_results.true, df_results.pred), display_labels=[\"1\", \"2\", \"3\"]).plot()"
   ]
  },
  {
   "cell_type": "code",
   "execution_count": 158,
   "metadata": {},
   "outputs": [
    {
     "name": "stdout",
     "output_type": "stream",
     "text": [
      "              precision    recall  f1-score   support\n",
      "\n",
      "         1.0       0.86      0.97      0.91        59\n",
      "         2.0       0.90      0.80      0.85        71\n",
      "         3.0       0.88      0.90      0.89        48\n",
      "\n",
      "    accuracy                           0.88       178\n",
      "   macro avg       0.88      0.89      0.88       178\n",
      "weighted avg       0.88      0.88      0.88       178\n",
      "\n"
     ]
    }
   ],
   "source": [
    "print(classification_report(df_results.true, df_results.pred))"
   ]
  },
  {
   "cell_type": "markdown",
   "metadata": {},
   "source": [
    "**6b)**\tTry to run your code above a few different times. Your performance results should fluctuate a bit. Why?"
   ]
  },
  {
   "cell_type": "markdown",
   "metadata": {},
   "source": [
    "ANSWER: The performance fluctuates slightly due to the fact that when we are training these models, there isn't guaranteed uniformity in how the tree generates. The models doesn't learn exactly the same way each time, and therefore has different predictions for different fringe datapoints. \n",
    "\n"
   ]
  },
  {
   "cell_type": "markdown",
   "metadata": {},
   "source": [
    "**6c)** For comparisons purposes, clearly print out what the value of your f1 score is using the function `f1_score` from `sklearn.metrics`. Do not copy and paste the values, but compute it using sklearn. "
   ]
  },
  {
   "cell_type": "code",
   "execution_count": 159,
   "metadata": {},
   "outputs": [
    {
     "data": {
      "text/plain": [
       "0.8831147356003487"
      ]
     },
     "execution_count": 159,
     "metadata": {},
     "output_type": "execute_result"
    }
   ],
   "source": [
    "from sklearn.metrics import f1_score\n",
    "\n",
    "f1 = f1_score(df_results.true, df_results.pred, average='macro')  \n",
    "f1"
   ]
  },
  {
   "cell_type": "markdown",
   "metadata": {},
   "source": [
    "***\n",
    "## Using GridSearchCV with Decision Trees\n",
    "\n",
    "**7)**\tAs we learned, a decision tree is a pretty simple, straightforward model for classification purposes. Despite its simplicity, it has a lot of possible parameters that affect how the tree is induced. The `DecisionTreeClassifier` class offers those parameters for you to fine tune your tree induction. See [https://scikit-learn.org/stable/modules/generated/sklearn.tree.DecisionTreeClassifier.html?highlight=decisiontreeclassifier#sklearn.tree.DecisionTreeClassifier](https://scikit-learn.org/stable/modules/generated/sklearn.tree.DecisionTreeClassifier.html?highlight=decisiontreeclassifier#sklearn.tree.DecisionTreeClassifier) so that you can understand the wide number of parameters you can use to influence your final model. There are a lot! We can do better, and that's what this lab is all about.\n",
    "\n",
    "Let's introduce `GridSearchCV`, a fantastic framework to find good hyperparameters for your models. There are THREE important parameters to `GridSearchCV`:\n",
    "\n",
    "- `estimator` – this is the model that you will evaluate, that implements the scikit-learn estimator interface (which is pretty much every model implemented in scikit-learn!)\n",
    "- `param_grid` – this is a dictionary with parameters of your model as keys, and a list of values to test as the value of each key. Look at the page for DecisionTreeClassifier.\n",
    "- `scoring` - this one is pretty important. This specifies the score(s) you want to use to use to evaluate the performance the cross-validation model.\n",
    "\n",
    "For example: suppose we wanted to compare both measures of purity: `\"gini\"` and `\"entropy\"`. And, suppose we wanted to compare different `max_depth` values. Both of these are parameters for `DecisionTreeClassifier`. We could set up a param_grid dictionary that maps parameter names as strings to individual lists of values that should be evaluated:\n",
    "\n",
    "```\n",
    "param_grid = { \n",
    "  'criterion' : ['gini', 'entropy'], \n",
    "  'max_depth' : [3,4,5,6,7] \n",
    "}\n",
    "```\n",
    "\n",
    "Think! How many individual runs does this represent?\n",
    "\n",
    "Hopefully you answered 10! Yes, that's 10 distinct runs to explore all possible combinations. (2 different `criterion` * 5 `max_depth` values). But that does not consider the size of your cross-validation. So, if we use a `cv` of, say, 5, then `GridSearchCV` will be training, evaluating and validating 50 different decision trees! Hopefully you can see how this can become quite unwieldy.\n",
    "\n",
    "Let's dive in! Add the above `param_grid` dictionary in your cell. Then copy the following code into your cell, paying close attention to the parameters (i.e. just don't copy code without understanding it!):\n",
    "\n",
    "```\n",
    "grid = GridSearchCV(DecisionTreeClassifier(), param_grid, \n",
    "                    return_train_score=True, cv=5)\n",
    "grid_result = grid.fit(X,y)\n",
    "```\n",
    "\n",
    "(If you did not use X and y, then you need to specify the variables you used here.) \n",
    "\n",
    "Execute your code. It should go ahead and evaluate all combinations of parameters you set up in your param_grid! Decision trees are pretty quick to learn, especially on small data sets such as this."
   ]
  },
  {
   "cell_type": "code",
   "execution_count": 162,
   "metadata": {},
   "outputs": [],
   "source": [
    "param_grid = { \n",
    "  'criterion' : ['gini', 'entropy'], \n",
    "  'max_depth' : [3,4,5,6,7] \n",
    "}\n",
    "\n",
    "grid = GridSearchCV(DecisionTreeClassifier(), param_grid, \n",
    "                    return_train_score=True, cv=5)\n",
    "grid_result = grid.fit(x,y)\n"
   ]
  },
  {
   "cell_type": "markdown",
   "metadata": {},
   "source": [
    "***\n",
    "**8)** Cool! Now, you need to explore the internal attributes of the `grid_result` object. It contains a LOT of information. Look closely at the description of the return value on the documentation page for `GridSearchCV`.\n",
    "\n",
    "[https://scikit-learn.org/stable/modules/generated/sklearn.model_selection.GridSearchCV.html](https://scikit-learn.org/stable/modules/generated/sklearn.model_selection.GridSearchCV.html)\n",
    "\n",
    "Then, show the best score, along with the best parameters for that score. (HINT: check out the attributes `best_score_` and `best_params_`)"
   ]
  },
  {
   "cell_type": "code",
   "execution_count": 163,
   "metadata": {},
   "outputs": [
    {
     "name": "stdout",
     "output_type": "stream",
     "text": [
      "Best Score 0.9274603174603175\n",
      "Best Params {'criterion': 'entropy', 'max_depth': 3}\n"
     ]
    }
   ],
   "source": [
    "print(f'Best Score {grid_result.best_score_}')\n",
    "print(f'Best Params {grid_result.best_params_}')"
   ]
  },
  {
   "cell_type": "markdown",
   "metadata": {},
   "source": [
    "**9)** [M] What does the best \"score\" represent? What performance metric? How do you override it, if, for example, you want to use `f1_macro`?"
   ]
  },
  {
   "cell_type": "markdown",
   "metadata": {},
   "source": [
    "ANSWER: The best \"score\" in a GridSearchCV represents the highest accuracy that is achieved throughout each of the individual runs. If you wanted to overrid it, you could specify this as an argument within setting up the grid search by specifying \"scoring = f1_macro\" as an argument when creating the object. \n",
    "\n"
   ]
  },
  {
   "cell_type": "markdown",
   "metadata": {},
   "source": [
    "***\n",
    "**10)** Copy your `GridSearchCV` code above, but this time specify a `scoring` parameter of `\"f1_macro\"`. Be sure to store the results of fit again as `grid_result`, and print the best score and best parameters again"
   ]
  },
  {
   "cell_type": "code",
   "execution_count": 164,
   "metadata": {},
   "outputs": [
    {
     "name": "stdout",
     "output_type": "stream",
     "text": [
      "Best Score 0.9346798615659202\n",
      "Best Params {'criterion': 'entropy', 'max_depth': 7}\n"
     ]
    }
   ],
   "source": [
    "grid = GridSearchCV(DecisionTreeClassifier(), param_grid, \n",
    "                    return_train_score=True, scoring=\"f1_macro\", cv=5)\n",
    "grid_result = grid.fit(x,y)\n",
    "print(f'Best Score {grid_result.best_score_}')\n",
    "print(f'Best Params {grid_result.best_params_}')\n"
   ]
  },
  {
   "cell_type": "markdown",
   "metadata": {},
   "source": [
    "**10b)** Did your result improve over the result you obtained using the default decision tree? (HINT: Yeah!)"
   ]
  },
  {
   "cell_type": "markdown",
   "metadata": {},
   "source": [
    "ANSWER: We do see an increased score as a result of introducing the scoring parameter. On average we see a roughly 2% increase upon the introduction of the scoring parameter. \n",
    "\n",
    "\n"
   ]
  },
  {
   "cell_type": "markdown",
   "metadata": {},
   "source": [
    "***\n",
    "**11)** Now, write the code to report the mean training and testing score and standard deviation for every parameter combination tested. Output your data in order of highest mean test score to lowest. How did you do compared to the default decision tree without any parameters? \n",
    "\n",
    "(HINT: Don't think too hard about this. This is actually easily done by casting the `cv_results_` attribute of your grid result return into a `DataFrame`, and then using standard pandas data selection and sorting methods. The variables I'm asking for are provided as a result. Then you can just output the dataframe itself, but selecting only the columns of interest.)"
   ]
  },
  {
   "cell_type": "code",
   "execution_count": 165,
   "metadata": {},
   "outputs": [
    {
     "data": {
      "text/html": [
       "<div>\n",
       "<style scoped>\n",
       "    .dataframe tbody tr th:only-of-type {\n",
       "        vertical-align: middle;\n",
       "    }\n",
       "\n",
       "    .dataframe tbody tr th {\n",
       "        vertical-align: top;\n",
       "    }\n",
       "\n",
       "    .dataframe thead th {\n",
       "        text-align: right;\n",
       "    }\n",
       "</style>\n",
       "<table border=\"1\" class=\"dataframe\">\n",
       "  <thead>\n",
       "    <tr style=\"text-align: right;\">\n",
       "      <th></th>\n",
       "      <th>params</th>\n",
       "      <th>mean_train_score</th>\n",
       "      <th>mean_test_score</th>\n",
       "      <th>std_test_score</th>\n",
       "    </tr>\n",
       "  </thead>\n",
       "  <tbody>\n",
       "    <tr>\n",
       "      <th>9</th>\n",
       "      <td>{'criterion': 'entropy', 'max_depth': 7}</td>\n",
       "      <td>1.000000</td>\n",
       "      <td>0.934680</td>\n",
       "      <td>0.040991</td>\n",
       "    </tr>\n",
       "    <tr>\n",
       "      <th>5</th>\n",
       "      <td>{'criterion': 'entropy', 'max_depth': 3}</td>\n",
       "      <td>0.994804</td>\n",
       "      <td>0.929582</td>\n",
       "      <td>0.052860</td>\n",
       "    </tr>\n",
       "    <tr>\n",
       "      <th>8</th>\n",
       "      <td>{'criterion': 'entropy', 'max_depth': 6}</td>\n",
       "      <td>1.000000</td>\n",
       "      <td>0.919808</td>\n",
       "      <td>0.033859</td>\n",
       "    </tr>\n",
       "    <tr>\n",
       "      <th>3</th>\n",
       "      <td>{'criterion': 'gini', 'max_depth': 6}</td>\n",
       "      <td>1.000000</td>\n",
       "      <td>0.916414</td>\n",
       "      <td>0.037771</td>\n",
       "    </tr>\n",
       "    <tr>\n",
       "      <th>1</th>\n",
       "      <td>{'criterion': 'gini', 'max_depth': 4}</td>\n",
       "      <td>0.993522</td>\n",
       "      <td>0.904834</td>\n",
       "      <td>0.047561</td>\n",
       "    </tr>\n",
       "    <tr>\n",
       "      <th>2</th>\n",
       "      <td>{'criterion': 'gini', 'max_depth': 5}</td>\n",
       "      <td>0.998424</td>\n",
       "      <td>0.898304</td>\n",
       "      <td>0.051910</td>\n",
       "    </tr>\n",
       "    <tr>\n",
       "      <th>7</th>\n",
       "      <td>{'criterion': 'entropy', 'max_depth': 5}</td>\n",
       "      <td>1.000000</td>\n",
       "      <td>0.897883</td>\n",
       "      <td>0.061213</td>\n",
       "    </tr>\n",
       "    <tr>\n",
       "      <th>6</th>\n",
       "      <td>{'criterion': 'entropy', 'max_depth': 4}</td>\n",
       "      <td>0.998708</td>\n",
       "      <td>0.891691</td>\n",
       "      <td>0.057548</td>\n",
       "    </tr>\n",
       "    <tr>\n",
       "      <th>0</th>\n",
       "      <td>{'criterion': 'gini', 'max_depth': 3}</td>\n",
       "      <td>0.984147</td>\n",
       "      <td>0.888277</td>\n",
       "      <td>0.058158</td>\n",
       "    </tr>\n",
       "    <tr>\n",
       "      <th>4</th>\n",
       "      <td>{'criterion': 'gini', 'max_depth': 7}</td>\n",
       "      <td>1.000000</td>\n",
       "      <td>0.879790</td>\n",
       "      <td>0.055451</td>\n",
       "    </tr>\n",
       "  </tbody>\n",
       "</table>\n",
       "</div>"
      ],
      "text/plain": [
       "                                     params  mean_train_score  \\\n",
       "9  {'criterion': 'entropy', 'max_depth': 7}          1.000000   \n",
       "5  {'criterion': 'entropy', 'max_depth': 3}          0.994804   \n",
       "8  {'criterion': 'entropy', 'max_depth': 6}          1.000000   \n",
       "3     {'criterion': 'gini', 'max_depth': 6}          1.000000   \n",
       "1     {'criterion': 'gini', 'max_depth': 4}          0.993522   \n",
       "2     {'criterion': 'gini', 'max_depth': 5}          0.998424   \n",
       "7  {'criterion': 'entropy', 'max_depth': 5}          1.000000   \n",
       "6  {'criterion': 'entropy', 'max_depth': 4}          0.998708   \n",
       "0     {'criterion': 'gini', 'max_depth': 3}          0.984147   \n",
       "4     {'criterion': 'gini', 'max_depth': 7}          1.000000   \n",
       "\n",
       "   mean_test_score  std_test_score  \n",
       "9         0.934680        0.040991  \n",
       "5         0.929582        0.052860  \n",
       "8         0.919808        0.033859  \n",
       "3         0.916414        0.037771  \n",
       "1         0.904834        0.047561  \n",
       "2         0.898304        0.051910  \n",
       "7         0.897883        0.061213  \n",
       "6         0.891691        0.057548  \n",
       "0         0.888277        0.058158  \n",
       "4         0.879790        0.055451  "
      ]
     },
     "execution_count": 165,
     "metadata": {},
     "output_type": "execute_result"
    }
   ],
   "source": [
    "df_grid_results = pd.DataFrame(grid_result.cv_results_)\n",
    "df_sorted = df_grid_results.sort_values(by='mean_test_score', ascending=False)\n",
    "df_sorted = df_sorted[['params', 'mean_train_score', 'mean_test_score', 'std_test_score']]\n",
    "df_sorted"
   ]
  },
  {
   "cell_type": "markdown",
   "metadata": {},
   "source": [
    "***\n",
    "**12)** Now, run a more extensive grid search to see if you can get an even better decision tree. Use the following `param_grid` to get you started. \n",
    "\n",
    "```\n",
    "param_grid = { 'criterion' : ['gini', 'entropy'],\n",
    "               'max_depth' : [4,5,6,7,8,9],\n",
    "               'min_samples_split' : [3,4,5,6],\n",
    "               'min_samples_leaf' : [1,2,3,4,5]\n",
    "             }\n",
    "```\n",
    "\n",
    "Then, specify the following parameters for `GridSearchCV`:\n",
    "- A higher number of partitions for cross-validation will give you a better, more exhaustive performance assessment. Use `cv=10` this time\n",
    "- You can have multiple scoring metrics assessed. Let's record both accuracy and f1. Use `scoring=[\"accuracy\",\"f1_macro\"]`\n",
    "- When you have multiple metrics, you must specify the `refit` parameter. Why? Scikit-learn retrains the final model returned with the entire dataset using the best measure specified with this parameter. The best parameters will be determined by \"f1_macro\". Thus, set `refit=\"f1_macro\"`\n",
    "\n",
    "\n",
    "Finally, once you retrieve the results, report the number of total runs, and the best result and its parameter. \n",
    "\n",
    "**That parameter grid will results in 240 different trees being assessed, each with 10-fold cross validation, for a total of 2400 trees being independently built! For some older machines, this could take a a minute or so.**\n",
    "\n",
    ">Try to experiment with `n_jobs` as well! Most of your computers have multiple cores in the CPU. Take advantage of it, especially when you have this many runs! Observe the `%%time` *magic* command output in the cell to see if it actually makes a difference with your time to wait.\n"
   ]
  },
  {
   "cell_type": "code",
   "execution_count": 166,
   "metadata": {},
   "outputs": [
    {
     "name": "stdout",
     "output_type": "stream",
     "text": [
      "Number of trees created: 1\n",
      "Best score: 0.9645114145114146\n",
      "Best parameters: {'criterion': 'entropy', 'max_depth': 6, 'min_samples_leaf': 1, 'min_samples_split': 4}\n",
      "CPU times: user 20.2 s, sys: 154 ms, total: 20.3 s\n",
      "Wall time: 20.8 s\n"
     ]
    }
   ],
   "source": [
    "%%time\n",
    "param_grid = { 'criterion' : ['gini', 'entropy'],\n",
    "               'max_depth' : [4,5,6,7,8,9],\n",
    "               'min_samples_split' : [3,4,5,6],\n",
    "               'min_samples_leaf' : [1,2,3,4,5]\n",
    "             }\n",
    "grid = GridSearchCV(DecisionTreeClassifier(), param_grid, refit=\"f1_macro\",\n",
    "                    return_train_score=True, scoring=[\"accuracy\",\"f1_macro\"], cv=10)\n",
    "\n",
    "grid_result = grid.fit(x,y)\n",
    "\n",
    "print(\"Number of trees created:\", 1)\n",
    "print(\"Best score:\", grid_result.best_score_)\n",
    "print(\"Best parameters:\", grid_result.best_params_)"
   ]
  },
  {
   "cell_type": "markdown",
   "metadata": {},
   "source": [
    "Be sure to cast your final result into a `pd.DataFrame` again so you can explore your results."
   ]
  },
  {
   "cell_type": "code",
   "execution_count": 175,
   "metadata": {
    "collapsed": false,
    "jupyter": {
     "outputs_hidden": false
    }
   },
   "outputs": [],
   "source": [
    "df_grid_results = pd.DataFrame(grid_result.cv_results_)\n"
   ]
  },
  {
   "cell_type": "markdown",
   "metadata": {},
   "source": [
    "**13)**\t[PM] Discuss your findings. Did the additional parameters you explored make a difference? Output the top 5 parameter configurations, along with the training and testing, sorted by the mean f1_macro."
   ]
  },
  {
   "cell_type": "code",
   "execution_count": 174,
   "metadata": {},
   "outputs": [
    {
     "data": {
      "text/html": [
       "<div>\n",
       "<style scoped>\n",
       "    .dataframe tbody tr th:only-of-type {\n",
       "        vertical-align: middle;\n",
       "    }\n",
       "\n",
       "    .dataframe tbody tr th {\n",
       "        vertical-align: top;\n",
       "    }\n",
       "\n",
       "    .dataframe thead th {\n",
       "        text-align: right;\n",
       "    }\n",
       "</style>\n",
       "<table border=\"1\" class=\"dataframe\">\n",
       "  <thead>\n",
       "    <tr style=\"text-align: right;\">\n",
       "      <th></th>\n",
       "      <th>params</th>\n",
       "      <th>mean_train_accuracy</th>\n",
       "      <th>mean_test_accuracy</th>\n",
       "    </tr>\n",
       "  </thead>\n",
       "  <tbody>\n",
       "    <tr>\n",
       "      <th>161</th>\n",
       "      <td>{'criterion': 'entropy', 'max_depth': 6, 'min_...</td>\n",
       "      <td>0.997508</td>\n",
       "      <td>0.966340</td>\n",
       "    </tr>\n",
       "    <tr>\n",
       "      <th>162</th>\n",
       "      <td>{'criterion': 'entropy', 'max_depth': 6, 'min_...</td>\n",
       "      <td>0.995008</td>\n",
       "      <td>0.960784</td>\n",
       "    </tr>\n",
       "    <tr>\n",
       "      <th>142</th>\n",
       "      <td>{'criterion': 'entropy', 'max_depth': 5, 'min_...</td>\n",
       "      <td>0.995008</td>\n",
       "      <td>0.960784</td>\n",
       "    </tr>\n",
       "    <tr>\n",
       "      <th>120</th>\n",
       "      <td>{'criterion': 'entropy', 'max_depth': 4, 'min_...</td>\n",
       "      <td>1.000000</td>\n",
       "      <td>0.955229</td>\n",
       "    </tr>\n",
       "    <tr>\n",
       "      <th>145</th>\n",
       "      <td>{'criterion': 'entropy', 'max_depth': 5, 'min_...</td>\n",
       "      <td>0.989387</td>\n",
       "      <td>0.955229</td>\n",
       "    </tr>\n",
       "  </tbody>\n",
       "</table>\n",
       "</div>"
      ],
      "text/plain": [
       "                                                params  mean_train_accuracy  \\\n",
       "161  {'criterion': 'entropy', 'max_depth': 6, 'min_...             0.997508   \n",
       "162  {'criterion': 'entropy', 'max_depth': 6, 'min_...             0.995008   \n",
       "142  {'criterion': 'entropy', 'max_depth': 5, 'min_...             0.995008   \n",
       "120  {'criterion': 'entropy', 'max_depth': 4, 'min_...             1.000000   \n",
       "145  {'criterion': 'entropy', 'max_depth': 5, 'min_...             0.989387   \n",
       "\n",
       "     mean_test_accuracy  \n",
       "161            0.966340  \n",
       "162            0.960784  \n",
       "142            0.960784  \n",
       "120            0.955229  \n",
       "145            0.955229  "
      ]
     },
     "execution_count": 174,
     "metadata": {},
     "output_type": "execute_result"
    }
   ],
   "source": [
    "sorted_df = df_grid_results.sort_values(by='mean_test_f1_macro', ascending=False)\n",
    "sorted_df = sorted_df[['params', 'mean_train_accuracy', 'mean_test_accuracy']]\n",
    "\n",
    "sorted_df.head(5)"
   ]
  },
  {
   "cell_type": "markdown",
   "metadata": {
    "collapsed": false,
    "jupyter": {
     "outputs_hidden": false
    }
   },
   "source": [
    "Interpretation: We can see that in general, there is a fair level of dominance by the criterion of entropy, and moderate max depths. We can also see that there is a rela"
   ]
  },
  {
   "cell_type": "markdown",
   "metadata": {
    "collapsed": false,
    "jupyter": {
     "outputs_hidden": false
    }
   },
   "source": [
    "**13b)** [P] Go back and re-run the experiment, but use 5-fold this time instead of 10-fold. Just output the best result and the parameters."
   ]
  },
  {
   "cell_type": "code",
   "execution_count": null,
   "metadata": {
    "collapsed": false,
    "jupyter": {
     "outputs_hidden": false
    }
   },
   "outputs": [],
   "source": []
  },
  {
   "cell_type": "markdown",
   "metadata": {
    "collapsed": false,
    "jupyter": {
     "outputs_hidden": false
    }
   },
   "source": [
    "**13c)** [M] You might very well find that the performance results are better with 10-fold. Why do you think this is?"
   ]
  },
  {
   "cell_type": "markdown",
   "metadata": {},
   "source": [
    "ANSWER:\n",
    "\n"
   ]
  },
  {
   "cell_type": "markdown",
   "metadata": {},
   "source": [
    "***\n",
    "### Reflecting on parallel processing and grid search\n",
    "\n",
    "Hopefully you tried out `n_jobs=2` (or maybe higher if you have a beasty machine!)  I sometimes set `pre_dispatch` to the same number as `n_jobs`, just to control too much memory usage. It's not really important for decision trees, but could be important for larger models. If you have a really beefy machine, try an even higher value of `n_jobs`. (NOTE: Don't go higher than the number of cores in your machine as you will actually slow down quite a bit from too much OS context switching, something you learned about in CSCI 315, or will if you haven't taken it already.) Experiment by starting with only `n_jobs=2`, and incrementally increase.\n",
    "\n",
    "> NOTE: Parallel jobs for large models such as neural nets can sometimes fail with a memory error. If this happens, just run with n_jobs=1.\n",
    "\n",
    "Depending on the number of parameters you choose, and the `cv` value, and most importantly, the model, this can take an extraordinarily long time. Like, don't underestimate this. It can be minutes. Or even hours depending on how complex your model is. And, if you are not careful, you could be waiting *days* for results! Serious grid search for hyperparameter tuning is typically very CPU intensive (and memory intensive for large datasets.) **So, ALWAYS START SIMPLE FIRST!** Use only a few parameters to explore, with few values, and a small CV number to start with. Make sure you have a good model, with good parameters. With neural nets, choose a small number of epochs to begin. Why? **Confirm you are getting decent results first!** Then, let your obsessive side kick into high gear, set your system to evaluate many different parameters, and then typically, you go to bed while your computer runs all night crunching numbers for you.\n",
    "\n",
    "> Serious machine learning tasks usually are submitted as batch jobs on a cluster or grid computing system."
   ]
  },
  {
   "cell_type": "markdown",
   "metadata": {},
   "source": [
    "***\n",
    "## Using GridSearch with Keras\n",
    "\n",
    "**14)** OK. Now on to hyperparameter tuning for Keras. (CONSIDER YOURSELF WARNED! Neural nets take a long time to train compared to decision trees!) From the previous lab, copy over your code for the function `create_keras_model()`. Now, modify your base neural net structure to match the inputs and outputs for the wine dataset you are working on for this lab.\n",
    "\n",
    "Remember that the `optimizer` hyperparameter is passed to `KerasClassifier` and are thus not to be included in our model function.\n",
    "\n",
    "Once you do that, modify your function to take parameters, specifically pointing to parameters that you want to explore with `GridSearchCV`. That is the only way to get the parameters into a scikit-learn Keras-wrapped model (remember to use `scikeras` for this! See the previous lab!). In particular, you are going to want to evaluate different optimizer and activation values for the hidden layer, and vary the number of hidden units. (Eventually you'll want to mess with SGD and momentum, but keep it simple for now!) Be sure to keep track of what parameters are passed to `KerasClassifier`, such as `optimizer`, and others that are an important part of the model function. \n",
    "\n",
    "I suggest setting up the following parameters for your model function:\n",
    "\n",
    "* `num_hidden` - representing the number of hidden nodes in the middle layer\n",
    "* `activation` - the activation function you want to use on the middle layer\n",
    "\n",
    "(Of course, you can explore further and create deeper multilayer structures! We're just starting with the essentials.)\n",
    "\n",
    "Here's what my function looks like. You can copy it over to get you started.\n",
    "\n",
    "**NOTE: You can not use default parameters in the model function. This is a SciKeras restriction by design**\n",
    "\n",
    "```\n",
    "def create_keras_model(num_hidden, activation):\n",
    "\n",
    "    # wine has 13 predictor variables\n",
    "    inputs = Input(shape=(13,))\n",
    "    \n",
    "    # our hidden layer is parameterized\n",
    "    layer = Dense(num_hidden, activation=activation)(inputs)\n",
    "    \n",
    "    # we have a 3-class problem, and we'll hard-code softmax activation\n",
    "    outputs = Dense(3,activation=\"softmax\")(layer)\n",
    "    \n",
    "    # Build our model\n",
    "    model = Model(inputs=inputs, outputs=outputs, name=\"model_1\")\n",
    "\n",
    "    return model\n",
    "```\n",
    "\n",
    "I suggest you use my function to get you started. Copy it into your cell below. Then, create your Keras classifier with `KerasClassifier()`. When you call this function, this is where you pass parameters such as epochs and batch_size. However, you also pass the parameters that you normally pass to `compile` (e.g. `optimizer`, `metrics`, `loss`). \n",
    "\n",
    "Remember, we're starting simple! NEVER jump right into a GridSearch until you've got your model function working properly. You don't want to wait long, so just use `epochs=5`  and `batch_size=4`. (I would advise starting with `verbose=1`, just to make sure your model is training properly, and you notice the accuracy increasing and loss decreasing, then set `verbose=0` when doing a bigger grid search on the next step.) \n",
    "\n",
    "Add this code. This is the instantiation of the wrapped Keras model into a scikit-learn compliant classifier:\n",
    "```\n",
    "clf = KerasClassifier(model=create_keras_model, \n",
    "                      verbose=1, \n",
    "                      epochs=5, \n",
    "                      batch_size=4,\n",
    "                      optimizer='adam',\n",
    "                      loss='categorical_crossentropy',\n",
    "                      metrics=[\"accuracy\"],\n",
    "                      num_hidden=10,\n",
    "                      activation='relu')\n",
    "```\n",
    "\n",
    "> NOTE - the parameters in our `create_keras_model` function are passed by `KerasClassifier` and thus you see them listed at the end. We'll hardcode them for now, but these parameters will be very valuable for use with GridSearchCV.\n",
    "\n",
    "Finally, test out your `KerasClassifier()` instance with the `cross_val_predict()` method you learned about in the previous lab, and print the results of classification_report. You can try to vary some parameters if you want, but don't spend a lot of time here."
   ]
  },
  {
   "cell_type": "code",
   "execution_count": null,
   "metadata": {},
   "outputs": [],
   "source": [
    "\n",
    "\n",
    "\n"
   ]
  },
  {
   "cell_type": "code",
   "execution_count": null,
   "metadata": {
    "scrolled": true
   },
   "outputs": [],
   "source": [
    "\n",
    "\n",
    "\n"
   ]
  },
  {
   "cell_type": "markdown",
   "metadata": {},
   "source": [
    "***\n",
    "**15)** Ok, you've verified that you have a good model function that you can explore. Now, it's time to use GridSearchCV on Keras (and prepare to wait several minutes or more!) \n",
    "\n",
    "First, create a `param_grid` dictionary. You must, minimally, specify the following keys: \n",
    "-\t`optimizer : ['adam','sgd']`\n",
    "-\tnumber of hidden units : 2 different numbers of your choice\n",
    "-\tan activation function - use `relu` for now\n",
    "-\t`'epochs' : [5, 10]`\n",
    "-\t`'batch_size' : [4, 8]`\n",
    "\n",
    ">NOTE: The **SciKeras** documentation has an odd way of *routing* parameters to the model function, or elsewhere. You need to name the parameters with a prefix value. See: https://www.adriangb.com/scikeras/stable/advanced.html#routed-parameters for more information. For instance, the parameter name for hidden units in our model function is named `'num_hidden'`. So, in the parameter grid, you must prefix these with `model__`. Therefore the name is `'model__num_hidden'`. Likewise for the activation parameter.\n",
    "\n",
    "Create a new classifier `KerasClassifier`, you might want to use a parameter of `verbose=0` to suppress output otherwise output will become quite unwieldy from so many classifiers being built! And, any parameters that you are specifying in your param_grid (e.g. optimizer) must not be specified in the call to `KerasClassifier`. Then, just like you did with the decision tree, wrap that classifier model in a `GridSearchCV` instance. Use a cross validation of 5 (though you can try more if you want. Sometimes I start with lower cv values like 5, then go to 10 with a more narrow range of parameters to explore.)\n",
    "\n",
    "One last note - when you create your `GridSearchCV` object, be sure to set `verbose=2` for it. That way you'll get some output to know what progress is being made on the grid search itself."
   ]
  },
  {
   "cell_type": "code",
   "execution_count": null,
   "metadata": {
    "collapsed": false,
    "jupyter": {
     "outputs_hidden": false
    }
   },
   "outputs": [],
   "source": [
    "%%time\n",
    "\n",
    "\n",
    "\n",
    "\n",
    "\n"
   ]
  },
  {
   "cell_type": "markdown",
   "metadata": {
    "collapsed": false,
    "jupyter": {
     "outputs_hidden": false
    }
   },
   "source": [
    "**15b)** You should get some pretty good results! Print the best score and the best parameters used to obtain that score."
   ]
  },
  {
   "cell_type": "code",
   "execution_count": null,
   "metadata": {
    "collapsed": false,
    "jupyter": {
     "outputs_hidden": false
    }
   },
   "outputs": [],
   "source": [
    "# summarize results\n",
    "\n",
    "\n"
   ]
  },
  {
   "cell_type": "markdown",
   "metadata": {
    "collapsed": false,
    "jupyter": {
     "outputs_hidden": false
    }
   },
   "source": [
    "**16)** Study your results. Can you do even better? How close can you get to 100% accuracy on a 5- or 10-fold cross validation with Keras? Try a different activation… say… `tanh` or `relu`? And, you'll likely need more epochs. Perhaps a few more hidden units? A bit larger batch size? Can you use the `sgd` optimizer? Play with the learning rate and momentum? (These are very interesting to explore, as they can make a big difference! However, do read the SciKeras documentation on routing parameters, since you will need to list some parameters with a special prefix.)  Many models perform the same, but you'll notice dramatic differences in the time taken to fit the model, which is quite interesting and informative! See what happens…."
   ]
  },
  {
   "cell_type": "code",
   "execution_count": null,
   "metadata": {},
   "outputs": [],
   "source": [
    "%%time\n",
    "\n",
    "\n",
    "\n",
    "\n",
    "\n",
    "\n",
    "\n",
    "\n",
    "\n"
   ]
  },
  {
   "cell_type": "markdown",
   "metadata": {
    "collapsed": false,
    "jupyter": {
     "outputs_hidden": false
    }
   },
   "source": [
    "**16b)** Summarize your best results. (HINT - you should be able to get neural nets with accuracy of 100% on training and near 99% on test!)"
   ]
  },
  {
   "cell_type": "code",
   "execution_count": null,
   "metadata": {},
   "outputs": [],
   "source": [
    "#summarize results\n",
    "\n"
   ]
  }
 ],
 "metadata": {
  "kernelspec": {
   "display_name": "Python 3 (ipykernel)",
   "language": "python",
   "name": "python3"
  },
  "language_info": {
   "codemirror_mode": {
    "name": "ipython",
    "version": 3
   },
   "file_extension": ".py",
   "mimetype": "text/x-python",
   "name": "python",
   "nbconvert_exporter": "python",
   "pygments_lexer": "ipython3",
   "version": "3.10.8"
  }
 },
 "nbformat": 4,
 "nbformat_minor": 4
}
