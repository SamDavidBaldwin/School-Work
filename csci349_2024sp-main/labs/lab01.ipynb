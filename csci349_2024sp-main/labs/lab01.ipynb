{
 "cells": [
  {
   "cell_type": "markdown",
   "id": "e25617ac-e4df-4bcc-9bd2-3a41414bd612",
   "metadata": {},
   "source": [
    "#Lab01 - Getting Started \n",
    "\n",
    "Name: Samuel Baldwin\n",
    "Class: CSCI 349 - Intro to Data Mining\n",
    "Section: 01 - 11am\n",
    "Semester: Spring 2024\n",
    "Instructors: Brian King"
   ]
  },
  {
   "attachments": {},
   "cell_type": "markdown",
   "id": "9a99a38d",
   "metadata": {},
   "source": [
    "**2.** [M]  Did you read the syllabus? All of it? Do you understand and agree to abide by the cheating rules? Write a sentence clearly indicating your commitment to not cheating. "
   ]
  },
  {
   "attachments": {},
   "cell_type": "markdown",
   "id": "dae7a52c",
   "metadata": {},
   "source": [
    "Yes I have read through the syllabus, in its entirety. \n",
    "I understand and agree to abide by the cheating rules laid out within the syllabus. \n",
    "I will not cheat on material in this class, and will follow the Bucknell University Honor Code throughout the duration of this course. "
   ]
  },
  {
   "attachments": {},
   "cell_type": "markdown",
   "id": "935dc210",
   "metadata": {},
   "source": [
    "**3.** [M] What are you hoping to get out of this course"
   ]
  },
  {
   "attachments": {},
   "cell_type": "markdown",
   "id": "0efccbf7",
   "metadata": {},
   "source": [
    "My goal for this class is to get a solid understanding of the basics of data mining, given that it is a fiald in which I have no prior experience. I want to be able to understand the basic concepts so that I can form my own opinions on the material.\n"
   ]
  },
  {
   "attachments": {},
   "cell_type": "markdown",
   "id": "bfe335fb",
   "metadata": {},
   "source": [
    "**4.** [P] Print the Python Version (available in sys package)"
   ]
  },
  {
   "cell_type": "code",
   "execution_count": 165,
   "id": "19eb932a",
   "metadata": {},
   "outputs": [
    {
     "name": "stdout",
     "output_type": "stream",
     "text": [
      "3.11.0 (v3.11.0:deaf509e8f, Oct 24 2022, 14:43:23) [Clang 13.0.0 (clang-1300.0.29.30)]\n"
     ]
    }
   ],
   "source": [
    "import sys \n",
    "print(sys.version)"
   ]
  },
  {
   "attachments": {},
   "cell_type": "markdown",
   "id": "2fcc66a4",
   "metadata": {},
   "source": [
    "**5.** [P] Create a Python list of 1000 random integers in the rage 1 to 100 using the random package. Name the list x_list"
   ]
  },
  {
   "cell_type": "code",
   "execution_count": 166,
   "id": "975d63be",
   "metadata": {},
   "outputs": [],
   "source": [
    "import random\n",
    "x_list = [] #Create an empty list \n",
    "for i in range(10000):\n",
    "    x_list.append(random.randint(1,99))\n"
   ]
  },
  {
   "attachments": {},
   "cell_type": "markdown",
   "id": "2524e02d",
   "metadata": {},
   "source": [
    "**6.** [P] What is the minimum value of x_list? What is the max value? What is the mode? "
   ]
  },
  {
   "cell_type": "code",
   "execution_count": 167,
   "id": "87dad6ed",
   "metadata": {},
   "outputs": [
    {
     "name": "stdout",
     "output_type": "stream",
     "text": [
      "The min of x_list is:  1.\n",
      "The max of x_list is:  99.\n",
      "The mode of x_list is:  53.\n"
     ]
    }
   ],
   "source": [
    "from statistics import mode \n",
    "print(f'The min of x_list is:  {min(x_list)}.')\n",
    "print(f'The max of x_list is:  {max(x_list)}.')\n",
    "print(f'The mode of x_list is:  {mode(x_list)}.')"
   ]
  },
  {
   "attachments": {},
   "cell_type": "markdown",
   "id": "ac9ac1a4",
   "metadata": {},
   "source": [
    "**7.** [P] Write a function to take a list of numbers as a parameter and return the average of the list. Then use your function to report the average value of x_list, printed as a float with 2 places of precision."
   ]
  },
  {
   "cell_type": "code",
   "execution_count": 168,
   "id": "1cdb1f1a",
   "metadata": {},
   "outputs": [
    {
     "name": "stdout",
     "output_type": "stream",
     "text": [
      "The average of x_list is:  49.72\n"
     ]
    }
   ],
   "source": [
    "def average_list(list):\n",
    "    sum = 0\n",
    "    for element in list: \n",
    "        sum += element\n",
    "    average = (1.0) * sum / len(list)\n",
    "    print(f'The average of x_list is:  {round(average, 2)}')\n",
    "average_list(x_list)"
   ]
  },
  {
   "attachments": {},
   "cell_type": "markdown",
   "id": "e882b6f4",
   "metadata": {},
   "source": [
    "**8.** [P] Create a list called x_hist that represents a *histogram*, i.e a distribution of the numerical data, of *x_list*. Each entry in *x_hist* should contain the frequency of data over a bin width of 10. So, for example, *x_hist[0]* represents the frequeny of numbers between 1-10, *x_hist*[1] is the frequency of numbers between 11-10, and so on. Be sure to print *x_hist* at the end. (Do NOT use numpy!)"
   ]
  },
  {
   "cell_type": "code",
   "execution_count": 169,
   "id": "d5e39890",
   "metadata": {},
   "outputs": [
    {
     "name": "stdout",
     "output_type": "stream",
     "text": [
      "[916, 1002, 1018, 1065, 994, 1020, 1034, 946, 996, 1009]\n"
     ]
    }
   ],
   "source": [
    "x_hist = [0] * 10\n",
    "for element in x_list: \n",
    "    x_hist[(element//10)] += 1 \n",
    "print(x_hist)\n"
   ]
  },
  {
   "cell_type": "markdown",
   "id": "8ebce1f1",
   "metadata": {},
   "source": [
    "**9** [M] What is numpy? What are its strengths? Does it have any weaknesses?"
   ]
  },
  {
   "attachments": {},
   "cell_type": "markdown",
   "id": "26bc6f0b",
   "metadata": {},
   "source": [
    "Numpy is a packaged for python designed to add support for multidimensional arrays and matrices, as well as functions that can be applied to arrays in order to draw conclusions. \\\n",
    "Its strengths are in these arrays which allow for easy creation and adjustment of multidimensional matrices, and the relatively lightweight nature of those matrices allowing for fast efficient computation.\\\n",
    "Its weaknesses generally lie in the fact that it doesn't have many effective mechanisms for displaying the arrays, so it can be difficult to visualize and present data that has been made into arrays. \n"
   ]
  },
  {
   "attachments": {},
   "cell_type": "markdown",
   "id": "934c5415",
   "metadata": {},
   "source": [
    "**10.** [P] Import the numpy package as np and print the numpy version"
   ]
  },
  {
   "cell_type": "code",
   "execution_count": 170,
   "id": "e8048562",
   "metadata": {},
   "outputs": [
    {
     "name": "stdout",
     "output_type": "stream",
     "text": [
      "1.23.4\n"
     ]
    }
   ],
   "source": [
    "import numpy as np\n",
    "print(np.__version__)"
   ]
  },
  {
   "attachments": {},
   "cell_type": "markdown",
   "id": "3e33e119",
   "metadata": {},
   "source": [
    "**11.** [M] What is the primary object type in numpy? Can it store data of different types? Discuss."
   ]
  },
  {
   "attachments": {},
   "cell_type": "markdown",
   "id": "ff17380f",
   "metadata": {},
   "source": [
    "The primary object type is the np.array type. \\\n",
    "The np.array can store differenty types of data, such as ints or floats"
   ]
  },
  {
   "attachments": {},
   "cell_type": "markdown",
   "id": "5bb04281",
   "metadata": {},
   "source": [
    "**12.** [M] Discuss the types of data available in numpy. You need not list every type. Just generalize, and discuss how they type system is different than the built-in types int and float in Python. \n"
   ]
  },
  {
   "attachments": {},
   "cell_type": "markdown",
   "id": "3b46cb52",
   "metadata": {},
   "source": [
    "Numpy has integer, floating point, boolean, object, and string types. \\\n",
    "Numpy also offers the capability of denoting the spacific depth of integers and floats, from 8 to 64 bits for both. Numpy also offers unsigned integers. "
   ]
  },
  {
   "attachments": {},
   "cell_type": "markdown",
   "id": "2bfea6be",
   "metadata": {},
   "source": [
    "**13.** [P] Research how to use numpy to compute the same result as problem 8 above. (HINT: np.histogram)"
   ]
  },
  {
   "cell_type": "code",
   "execution_count": 171,
   "id": "b0ae9aef",
   "metadata": {},
   "outputs": [
    {
     "name": "stdout",
     "output_type": "stream",
     "text": [
      "(array([ 916, 1002, 1018, 1065,  994, 1020, 1034,  946,  996, 1009]), array([  0,  10,  20,  30,  40,  50,  60,  70,  80,  90, 100]))\n"
     ]
    }
   ],
   "source": [
    "numpy_array = np.array(x_list)\n",
    "histogram = np.histogram(numpy_array, bins = np.arange(0, 110, 10))\n",
    "print(histogram)"
   ]
  },
  {
   "attachments": {},
   "cell_type": "markdown",
   "id": "2e22ddc8",
   "metadata": {},
   "source": [
    "**14.** [P] Create a numpy array from x_list. Reassign it as x_list. Show the contents of the first 20 entries. "
   ]
  },
  {
   "cell_type": "code",
   "execution_count": 172,
   "id": "edb7a5e2",
   "metadata": {},
   "outputs": [
    {
     "name": "stdout",
     "output_type": "stream",
     "text": [
      "[29 59 42 13 75 24 42 88 93 96 22 43 15 17 51 72 88 77 75 46]\n"
     ]
    }
   ],
   "source": [
    "x_list = np.array(x_list)\n",
    "print(x_list[:20])"
   ]
  },
  {
   "attachments": {},
   "cell_type": "markdown",
   "id": "b88bce0f",
   "metadata": {},
   "source": [
    "**15.** [P] Redo the previous exercise but set the data type of each value to 'float32'"
   ]
  },
  {
   "cell_type": "code",
   "execution_count": 173,
   "id": "ae7068ca",
   "metadata": {},
   "outputs": [
    {
     "name": "stdout",
     "output_type": "stream",
     "text": [
      "[29. 59. 42. ... 30. 89. 33.]\n"
     ]
    }
   ],
   "source": [
    "x_list_float32 = x_list.astype(np.float32)\n",
    "print(x_list_float32)"
   ]
  },
  {
   "attachments": {},
   "cell_type": "markdown",
   "id": "5e165671",
   "metadata": {},
   "source": [
    "**16.** [P] Create a length 10 integer array filled with zeros "
   ]
  },
  {
   "cell_type": "code",
   "execution_count": 174,
   "id": "5650c611",
   "metadata": {},
   "outputs": [
    {
     "name": "stdout",
     "output_type": "stream",
     "text": [
      "[0 0 0 0 0 0 0 0 0 0]\n"
     ]
    }
   ],
   "source": [
    "zeros_array = np.zeros(10, dtype=int)\n",
    "print(zeros_array)"
   ]
  },
  {
   "attachments": {},
   "cell_type": "markdown",
   "id": "5e5b58c3",
   "metadata": {},
   "source": [
    "**17** [P] Create a float array of 3 rows and 4 columns, all initialized to one. \n"
   ]
  },
  {
   "cell_type": "code",
   "execution_count": 175,
   "id": "82ac552c",
   "metadata": {},
   "outputs": [
    {
     "name": "stdout",
     "output_type": "stream",
     "text": [
      "[[1. 1. 1. 1.]\n",
      " [1. 1. 1. 1.]\n",
      " [1. 1. 1. 1.]]\n"
     ]
    }
   ],
   "source": [
    "three_by_four = np.ones((3,4))\n",
    "print(three_by_four)"
   ]
  },
  {
   "attachments": {},
   "cell_type": "markdown",
   "id": "2b71f749",
   "metadata": {},
   "source": [
    "**18.** [P] Create an array of 30 values, evenly spaced between 1 and 3 (HINT - look at np.linespace)"
   ]
  },
  {
   "cell_type": "code",
   "execution_count": 176,
   "id": "94aca16c",
   "metadata": {},
   "outputs": [
    {
     "name": "stdout",
     "output_type": "stream",
     "text": [
      "[1.         1.10526316 1.21052632 1.31578947 1.42105263 1.52631579\n",
      " 1.63157895 1.73684211 1.84210526 1.94736842 2.05263158 2.15789474\n",
      " 2.26315789 2.36842105 2.47368421 2.57894737 2.68421053 2.78947368\n",
      " 2.89473684 3.        ]\n"
     ]
    }
   ],
   "source": [
    "evenly_spaced = np.linspace(1,3,20)\n",
    "print(evenly_spaced)"
   ]
  },
  {
   "attachments": {},
   "cell_type": "markdown",
   "id": "b38adb53",
   "metadata": {},
   "source": [
    "**19.** [P] Set the numpy random seed to the value 12345, then create a 10x5 array of random itegers on the inverval 10,50 assigned to x_mat."
   ]
  },
  {
   "cell_type": "code",
   "execution_count": 177,
   "id": "60abfc42",
   "metadata": {},
   "outputs": [
    {
     "name": "stdout",
     "output_type": "stream",
     "text": [
      "[[44 47 39 11 46]\n",
      " [47 44 39 11 24]\n",
      " [37 26 19 21 23]\n",
      " [20 27 28 48 17]\n",
      " [49 33 39 41 43]\n",
      " [37 33 46 10 13]\n",
      " [15 25 21 24 27]\n",
      " [15 44 18 15 44]\n",
      " [15 29 22 24 26]\n",
      " [37 48 34 42 15]]\n"
     ]
    }
   ],
   "source": [
    "np.random.seed(12345)\n",
    "x_mat = np.random.randint(10, 51, size=(10,5))\n",
    "print(x_mat)"
   ]
  },
  {
   "attachments": {},
   "cell_type": "markdown",
   "id": "f5d51726",
   "metadata": {},
   "source": [
    "**20.** [P] Use slicing to select and show the first and last row of x_mat"
   ]
  },
  {
   "cell_type": "code",
   "execution_count": 178,
   "id": "1b0b2efd",
   "metadata": {},
   "outputs": [
    {
     "name": "stdout",
     "output_type": "stream",
     "text": [
      "[[44 47 39 11 46]\n",
      " [37 48 34 42 15]]\n"
     ]
    }
   ],
   "source": [
    "print(x_mat[[0,-1]])"
   ]
  },
  {
   "attachments": {},
   "cell_type": "markdown",
   "id": "640ccacf",
   "metadata": {},
   "source": [
    "**21.** [P] Now, show the first third and fifth column of x_mat"
   ]
  },
  {
   "cell_type": "code",
   "execution_count": 179,
   "id": "1e172e28",
   "metadata": {},
   "outputs": [
    {
     "name": "stdout",
     "output_type": "stream",
     "text": [
      "[[44 39 46]\n",
      " [47 39 24]\n",
      " [37 19 23]\n",
      " [20 28 17]\n",
      " [49 39 43]\n",
      " [37 46 13]\n",
      " [15 21 27]\n",
      " [15 18 44]\n",
      " [15 22 26]\n",
      " [37 34 15]]\n"
     ]
    }
   ],
   "source": [
    "print(x_mat[:, [0,2,4]])"
   ]
  },
  {
   "attachments": {},
   "cell_type": "markdown",
   "id": "e1507eea",
   "metadata": {},
   "source": [
    "**22.** [P] Show the sum of each row. Your output should appear like this:"
   ]
  },
  {
   "cell_type": "code",
   "execution_count": 180,
   "id": "83c2b097",
   "metadata": {},
   "outputs": [
    {
     "name": "stdout",
     "output_type": "stream",
     "text": [
      "[187 165 126 140 205 139 112 136 116 176]\n"
     ]
    }
   ],
   "source": [
    "print(np.sum(x_mat, axis=1))"
   ]
  }
 ],
 "metadata": {
  "kernelspec": {
   "display_name": "Python 3 (ipykernel)",
   "language": "python",
   "name": "python3"
  },
  "language_info": {
   "codemirror_mode": {
    "name": "ipython",
    "version": 3
   },
   "file_extension": ".py",
   "mimetype": "text/x-python",
   "name": "python",
   "nbconvert_exporter": "python",
   "pygments_lexer": "ipython3",
   "version": "3.10.13"
  }
 },
 "nbformat": 4,
 "nbformat_minor": 5
}
