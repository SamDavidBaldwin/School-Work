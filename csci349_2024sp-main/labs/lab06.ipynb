{
 "cells": [
  {
   "cell_type": "markdown",
   "metadata": {},
   "source": [
    "# Lab 06 - Data Preprocessing I\n",
    "\n",
    "**DUE: Feb 12, 2024 (Monday)**  \n",
    "Pair Programming: Optional  \n",
    "\n",
    "Name(s): Samuel Baldwin\n",
    "Class: CSCI 349 - Intro to Data Mining  \n",
    "Section: 01\n",
    "Semester: Spring 2024\n",
    "Instructors: Brian King, Joshua Stough\n"
   ]
  },
  {
   "cell_type": "markdown",
   "metadata": {
    "collapsed": false,
    "jupyter": {
     "outputs_hidden": false
    }
   },
   "source": [
    "---\n",
    "# Objectives\n",
    "* Experience the \"joy\" that is data munging. Munge, munge, munge!\n",
    "* Start dealing with noisy, unclean, real-world data\n",
    "* Work with times and dates in your data\n",
    "\n",
    "## Pair programming\n",
    "Don't forget that pair programming is allowed and even encouraged on these labs moving forward.\n",
    "\n",
    "# Introduction\n",
    "As you learned in class, data cleaning represents a large part of the work of the data scientist.  You are going to download a real-world dataset, and do some preliminary cleaning, EDA, and reporting."
   ]
  },
  {
   "cell_type": "markdown",
   "metadata": {
    "collapsed": false,
    "jupyter": {
     "outputs_hidden": false
    }
   },
   "source": [
    "---\n",
    "# Preparing for your lab\n",
    "\n",
    "Do each of the following...\n",
    "\n",
    "* Modify the header cell above with your name(s).\n",
    "* If you haven't yet, create a new folder at the same level as your labs and hw folder you created, called `data`.\n",
    "    * This folder will store the data that you are working with through the semester. Sometimes the data we work with can be downloaded directly from an online URL, and other times (such as this exercise), the data will need to be downloaded from public repositories locally onto your laptop. And worse yet, most data are not cleaned and tidied up for you to play with!"
   ]
  },
  {
   "cell_type": "markdown",
   "metadata": {
    "collapsed": false,
    "jupyter": {
     "outputs_hidden": false
    }
   },
   "source": [
    "---\n",
    "## The Pennsylvania State Climatologist Database\n",
    "\n",
    "Penn State has an excellent public database of weather observations collected from a wide range of stations scattered throughout the state. Some of them go back to the 1940s. For this lab, we're going to explore one of those datasets – Williamsport, PA.\n",
    "\n",
    "Go to the [The Pennsylvania State Climatologist](http://climate.met.psu.edu). From this page:\n",
    "* Select **Data**\n",
    "* Select **Data Archive**\n",
    "* For **Select a network** select **FAA Hourly**.\n",
    "* You are going to investigate the weather observations *Williamsport, PA*, whose FAA code is **KIPT**. Select it.\n",
    "\n",
    "Now you need to select the range of observations and variables we're interested in. Enter the following:\n",
    "\n",
    "* Start and End Dates: **2000-01-01** to **2023-12-31**.\n",
    "* Select ALL attributes to download (from Date/Time, Number of observations… etc… right through Max Wind Speed).\n",
    "* Output file type should be a CSV file\n",
    "* Select Yes to include Metadata. (Metadata is information about data. This usually contains valuable information, and you almost always want to retain this information unless you are provided with an explicit *schema*, which we are not.)\n",
    "\n",
    "**Click Submit.**\n",
    "\n",
    "Download the data (which will most likely place your data into your Downloads folder.)  It'll be a long filename. That's fine. I usually always add the suffix \"_raw\" to indicate this is the raw data that I'm working with from my source. *Never lose track of your original dataset.*\n",
    "\n",
    "You are not done. Move that file over to your `data` directory you created (which should be at the same directly level as your `labs` directory.) If you placed the .csv file in the correct place, then your path should be:\n",
    "\n",
    "`../data/faa_hourly-KIPT_20000101-20231231_raw.csv`\n",
    "\n",
    "\n"
   ]
  },
  {
   "cell_type": "code",
   "execution_count": 8,
   "metadata": {},
   "outputs": [
    {
     "name": "stderr",
     "output_type": "stream",
     "text": [
      "/Users/samuelbaldwin/anaconda3/envs/csci349/lib/python3.10/site-packages/_distutils_hack/__init__.py:33: UserWarning: Setuptools is replacing distutils.\n",
      "  warnings.warn(\"Setuptools is replacing distutils.\")\n"
     ]
    },
    {
     "name": "stdout",
     "output_type": "stream",
     "text": [
      "\n",
      "INSTALLED VERSIONS\n",
      "------------------\n",
      "commit              : a671b5a8bf5dd13fb19f0e88edc679bc9e15c673\n",
      "python              : 3.10.13.final.0\n",
      "python-bits         : 64\n",
      "OS                  : Darwin\n",
      "OS-release          : 21.6.0\n",
      "Version             : Darwin Kernel Version 21.6.0: Thu Jun  8 23:57:12 PDT 2023; root:xnu-8020.240.18.701.6~1/RELEASE_X86_64\n",
      "machine             : x86_64\n",
      "processor           : i386\n",
      "byteorder           : little\n",
      "LC_ALL              : None\n",
      "LANG                : en_US.UTF-8\n",
      "LOCALE              : en_US.UTF-8\n",
      "\n",
      "pandas              : 2.1.4\n",
      "numpy               : 1.26.3\n",
      "pytz                : 2023.3.post1\n",
      "dateutil            : 2.8.2\n",
      "setuptools          : 68.2.2\n",
      "pip                 : 23.3.1\n",
      "Cython              : None\n",
      "pytest              : None\n",
      "hypothesis          : None\n",
      "sphinx              : None\n",
      "blosc               : None\n",
      "feather             : None\n",
      "xlsxwriter          : None\n",
      "lxml.etree          : None\n",
      "html5lib            : None\n",
      "pymysql             : None\n",
      "psycopg2            : None\n",
      "jinja2              : 3.1.2\n",
      "IPython             : 8.20.0\n",
      "pandas_datareader   : None\n",
      "bs4                 : 4.12.2\n",
      "bottleneck          : 1.3.5\n",
      "dataframe-api-compat: None\n",
      "fastparquet         : None\n",
      "fsspec              : None\n",
      "gcsfs               : None\n",
      "matplotlib          : 3.8.0\n",
      "numba               : None\n",
      "numexpr             : 2.8.7\n",
      "odfpy               : None\n",
      "openpyxl            : None\n",
      "pandas_gbq          : None\n",
      "pyarrow             : None\n",
      "pyreadstat          : None\n",
      "pyxlsb              : None\n",
      "s3fs                : None\n",
      "scipy               : 1.11.4\n",
      "sqlalchemy          : None\n",
      "tables              : None\n",
      "tabulate            : None\n",
      "xarray              : None\n",
      "xlrd                : None\n",
      "zstandard           : None\n",
      "tzdata              : 2023.3\n",
      "qtpy                : 2.4.1\n",
      "pyqt5               : None\n",
      "None\n"
     ]
    }
   ],
   "source": [
    "import sys\n",
    "import os\n",
    "import numpy as np\n",
    "import pandas as pd\n",
    "import matplotlib as mpl\n",
    "import matplotlib.pyplot as plt\n",
    "import seaborn as sns\n",
    "\n",
    "import warnings\n",
    "warnings.simplefilter(action = 'ignore', category = FutureWarning)\n",
    "\n",
    "print(pd.show_versions())"
   ]
  },
  {
   "cell_type": "markdown",
   "metadata": {},
   "source": [
    "---\n",
    "**1)**\t [P] Use pandas to read in your data file you downloaded above, which you should have placed in your data directory. Call the data frame `df_temps`.  Read in the entire dataset, however, be sure to ignore the first 16 rows from the input (HINT: use the `skiprows=` option!)\n",
    "\n",
    "**NOTE:** ALWAYS BE SURE TO LOOK AT YOUR ACTUAL DATA AS PLAIN TEXT BEFORE TRYING TO READ IN A RAW DATASET! JUST BECAUSE A DATASET HAS A `.csv` EXTENSION DOES NOT MEAN THAT YOU CAN RELY ON EVERY ROW BEING A PROPERLY FORMATTED ROW! For instance, notice that the header row is scattered throughout your data! Notice that you have some extra columns at the end that are consistently empty! The inexperienced data scientists are tempted to manually edit the file to make it easy to read. *NO. WRONG! BAD DATA SCIENTIST!*\n",
    "\n",
    ">**Never change your raw data.**\n",
    ">\n",
    "> Write your Python cleaning code to always work with raw, uncleaned data. Why? In practice, your data file may be huge. You may need to repeatedly grab fresh data, and those data will only have the same issues. Do you really want to repeat your manual editing silliness every time you have a fresh file? No! It may take a bit more work up front, but ALWAYS strive to write code to preprocess every aspect of your raw data file! It will always save you work later!"
   ]
  },
  {
   "cell_type": "code",
   "execution_count": null,
   "metadata": {},
   "outputs": [],
   "source": []
  },
  {
   "cell_type": "code",
   "execution_count": 9,
   "metadata": {},
   "outputs": [
    {
     "data": {
      "text/html": [
       "<div>\n",
       "<style scoped>\n",
       "    .dataframe tbody tr th:only-of-type {\n",
       "        vertical-align: middle;\n",
       "    }\n",
       "\n",
       "    .dataframe tbody tr th {\n",
       "        vertical-align: top;\n",
       "    }\n",
       "\n",
       "    .dataframe thead th {\n",
       "        text-align: right;\n",
       "    }\n",
       "</style>\n",
       "<table border=\"1\" class=\"dataframe\">\n",
       "  <thead>\n",
       "    <tr style=\"text-align: right;\">\n",
       "      <th></th>\n",
       "      <th>Date/Time (GMT)</th>\n",
       "      <th>Number of Observations (n/a)</th>\n",
       "      <th>Average Temp (F)</th>\n",
       "      <th>Max Temp (F)</th>\n",
       "      <th>Min Temp (F)</th>\n",
       "      <th>Average Dewpoint Temp (F)</th>\n",
       "      <th>1 Hour Precip (in)</th>\n",
       "      <th>Max Wind Gust (mph)</th>\n",
       "      <th>Average Relative Humidity (%)</th>\n",
       "      <th>Average Wind Speed (mph)</th>\n",
       "      <th>Average Station Pressure (mb)</th>\n",
       "      <th>Average Wind Direction (deg)</th>\n",
       "      <th>Max Wind Speed (mph)</th>\n",
       "      <th>Unnamed: 13</th>\n",
       "    </tr>\n",
       "  </thead>\n",
       "  <tbody>\n",
       "    <tr>\n",
       "      <th>0</th>\n",
       "      <td>2000-01-01 00:00:00</td>\n",
       "      <td>1</td>\n",
       "      <td>26.10</td>\n",
       "      <td>26.1</td>\n",
       "      <td>26.1</td>\n",
       "      <td>14.00</td>\n",
       "      <td>NaN</td>\n",
       "      <td>20.7</td>\n",
       "      <td>59.00</td>\n",
       "      <td>17.30</td>\n",
       "      <td>1015.2</td>\n",
       "      <td>280.00</td>\n",
       "      <td>17.3</td>\n",
       "      <td>NaN</td>\n",
       "    </tr>\n",
       "    <tr>\n",
       "      <th>1</th>\n",
       "      <td>2000-01-01 01:00:00</td>\n",
       "      <td>1</td>\n",
       "      <td>26.10</td>\n",
       "      <td>26.1</td>\n",
       "      <td>26.1</td>\n",
       "      <td>14.00</td>\n",
       "      <td>NaN</td>\n",
       "      <td>NaN</td>\n",
       "      <td>59.00</td>\n",
       "      <td>16.10</td>\n",
       "      <td>1015.9</td>\n",
       "      <td>280.00</td>\n",
       "      <td>16.1</td>\n",
       "      <td>NaN</td>\n",
       "    </tr>\n",
       "    <tr>\n",
       "      <th>2</th>\n",
       "      <td>2000-01-01 02:00:00</td>\n",
       "      <td>1</td>\n",
       "      <td>26.10</td>\n",
       "      <td>26.1</td>\n",
       "      <td>26.1</td>\n",
       "      <td>15.10</td>\n",
       "      <td>NaN</td>\n",
       "      <td>NaN</td>\n",
       "      <td>62.00</td>\n",
       "      <td>15.00</td>\n",
       "      <td>1016.3</td>\n",
       "      <td>280.00</td>\n",
       "      <td>15.0</td>\n",
       "      <td>NaN</td>\n",
       "    </tr>\n",
       "    <tr>\n",
       "      <th>3</th>\n",
       "      <td>2000-01-01 03:00:00</td>\n",
       "      <td>1</td>\n",
       "      <td>26.10</td>\n",
       "      <td>26.1</td>\n",
       "      <td>26.1</td>\n",
       "      <td>12.00</td>\n",
       "      <td>NaN</td>\n",
       "      <td>NaN</td>\n",
       "      <td>54.00</td>\n",
       "      <td>16.10</td>\n",
       "      <td>1016.6</td>\n",
       "      <td>270.00</td>\n",
       "      <td>16.1</td>\n",
       "      <td>NaN</td>\n",
       "    </tr>\n",
       "    <tr>\n",
       "      <th>4</th>\n",
       "      <td>2000-01-01 04:00:00</td>\n",
       "      <td>1</td>\n",
       "      <td>26.10</td>\n",
       "      <td>26.1</td>\n",
       "      <td>26.1</td>\n",
       "      <td>14.00</td>\n",
       "      <td>NaN</td>\n",
       "      <td>NaN</td>\n",
       "      <td>59.00</td>\n",
       "      <td>12.70</td>\n",
       "      <td>1017.3</td>\n",
       "      <td>280.00</td>\n",
       "      <td>12.7</td>\n",
       "      <td>NaN</td>\n",
       "    </tr>\n",
       "    <tr>\n",
       "      <th>...</th>\n",
       "      <td>...</td>\n",
       "      <td>...</td>\n",
       "      <td>...</td>\n",
       "      <td>...</td>\n",
       "      <td>...</td>\n",
       "      <td>...</td>\n",
       "      <td>...</td>\n",
       "      <td>...</td>\n",
       "      <td>...</td>\n",
       "      <td>...</td>\n",
       "      <td>...</td>\n",
       "      <td>...</td>\n",
       "      <td>...</td>\n",
       "      <td>...</td>\n",
       "    </tr>\n",
       "    <tr>\n",
       "      <th>207725</th>\n",
       "      <td>2023-12-31 19:00:00</td>\n",
       "      <td>13</td>\n",
       "      <td>40.72</td>\n",
       "      <td>41.0</td>\n",
       "      <td>39.2</td>\n",
       "      <td>26.45</td>\n",
       "      <td>NaN</td>\n",
       "      <td>NaN</td>\n",
       "      <td>56.69</td>\n",
       "      <td>8.68</td>\n",
       "      <td>1014.5</td>\n",
       "      <td>249.23</td>\n",
       "      <td>12.7</td>\n",
       "      <td>NaN</td>\n",
       "    </tr>\n",
       "    <tr>\n",
       "      <th>207726</th>\n",
       "      <td>2023-12-31 20:00:00</td>\n",
       "      <td>13</td>\n",
       "      <td>40.50</td>\n",
       "      <td>41.0</td>\n",
       "      <td>39.2</td>\n",
       "      <td>26.45</td>\n",
       "      <td>NaN</td>\n",
       "      <td>NaN</td>\n",
       "      <td>57.15</td>\n",
       "      <td>5.95</td>\n",
       "      <td>1014.3</td>\n",
       "      <td>255.00</td>\n",
       "      <td>6.9</td>\n",
       "      <td>NaN</td>\n",
       "    </tr>\n",
       "    <tr>\n",
       "      <th>207727</th>\n",
       "      <td>2023-12-31 21:00:00</td>\n",
       "      <td>13</td>\n",
       "      <td>39.25</td>\n",
       "      <td>39.9</td>\n",
       "      <td>39.2</td>\n",
       "      <td>27.62</td>\n",
       "      <td>NaN</td>\n",
       "      <td>NaN</td>\n",
       "      <td>63.00</td>\n",
       "      <td>2.41</td>\n",
       "      <td>1014.5</td>\n",
       "      <td>137.69</td>\n",
       "      <td>5.8</td>\n",
       "      <td>NaN</td>\n",
       "    </tr>\n",
       "    <tr>\n",
       "      <th>207728</th>\n",
       "      <td>2023-12-31 22:00:00</td>\n",
       "      <td>13</td>\n",
       "      <td>38.96</td>\n",
       "      <td>39.2</td>\n",
       "      <td>37.4</td>\n",
       "      <td>27.11</td>\n",
       "      <td>NaN</td>\n",
       "      <td>NaN</td>\n",
       "      <td>62.46</td>\n",
       "      <td>0.00</td>\n",
       "      <td>1014.7</td>\n",
       "      <td>0.00</td>\n",
       "      <td>0.0</td>\n",
       "      <td>NaN</td>\n",
       "    </tr>\n",
       "    <tr>\n",
       "      <th>207729</th>\n",
       "      <td>2023-12-31 23:00:00</td>\n",
       "      <td>13</td>\n",
       "      <td>38.91</td>\n",
       "      <td>39.2</td>\n",
       "      <td>37.4</td>\n",
       "      <td>28.85</td>\n",
       "      <td>NaN</td>\n",
       "      <td>NaN</td>\n",
       "      <td>67.31</td>\n",
       "      <td>4.82</td>\n",
       "      <td>1015.0</td>\n",
       "      <td>219.23</td>\n",
       "      <td>6.9</td>\n",
       "      <td>NaN</td>\n",
       "    </tr>\n",
       "  </tbody>\n",
       "</table>\n",
       "<p>207730 rows × 14 columns</p>\n",
       "</div>"
      ],
      "text/plain": [
       "            Date/Time (GMT)  Number of Observations (n/a)  Average Temp (F)  \\\n",
       "0       2000-01-01 00:00:00                             1             26.10   \n",
       "1       2000-01-01 01:00:00                             1             26.10   \n",
       "2       2000-01-01 02:00:00                             1             26.10   \n",
       "3       2000-01-01 03:00:00                             1             26.10   \n",
       "4       2000-01-01 04:00:00                             1             26.10   \n",
       "...                     ...                           ...               ...   \n",
       "207725  2023-12-31 19:00:00                            13             40.72   \n",
       "207726  2023-12-31 20:00:00                            13             40.50   \n",
       "207727  2023-12-31 21:00:00                            13             39.25   \n",
       "207728  2023-12-31 22:00:00                            13             38.96   \n",
       "207729  2023-12-31 23:00:00                            13             38.91   \n",
       "\n",
       "        Max Temp (F)  Min Temp (F)  Average Dewpoint Temp (F)  \\\n",
       "0               26.1          26.1                      14.00   \n",
       "1               26.1          26.1                      14.00   \n",
       "2               26.1          26.1                      15.10   \n",
       "3               26.1          26.1                      12.00   \n",
       "4               26.1          26.1                      14.00   \n",
       "...              ...           ...                        ...   \n",
       "207725          41.0          39.2                      26.45   \n",
       "207726          41.0          39.2                      26.45   \n",
       "207727          39.9          39.2                      27.62   \n",
       "207728          39.2          37.4                      27.11   \n",
       "207729          39.2          37.4                      28.85   \n",
       "\n",
       "        1 Hour Precip (in)  Max Wind Gust (mph)  \\\n",
       "0                      NaN                 20.7   \n",
       "1                      NaN                  NaN   \n",
       "2                      NaN                  NaN   \n",
       "3                      NaN                  NaN   \n",
       "4                      NaN                  NaN   \n",
       "...                    ...                  ...   \n",
       "207725                 NaN                  NaN   \n",
       "207726                 NaN                  NaN   \n",
       "207727                 NaN                  NaN   \n",
       "207728                 NaN                  NaN   \n",
       "207729                 NaN                  NaN   \n",
       "\n",
       "        Average Relative Humidity (%)  Average Wind Speed (mph)  \\\n",
       "0                               59.00                     17.30   \n",
       "1                               59.00                     16.10   \n",
       "2                               62.00                     15.00   \n",
       "3                               54.00                     16.10   \n",
       "4                               59.00                     12.70   \n",
       "...                               ...                       ...   \n",
       "207725                          56.69                      8.68   \n",
       "207726                          57.15                      5.95   \n",
       "207727                          63.00                      2.41   \n",
       "207728                          62.46                      0.00   \n",
       "207729                          67.31                      4.82   \n",
       "\n",
       "        Average Station Pressure (mb)  Average Wind Direction (deg)  \\\n",
       "0                              1015.2                        280.00   \n",
       "1                              1015.9                        280.00   \n",
       "2                              1016.3                        280.00   \n",
       "3                              1016.6                        270.00   \n",
       "4                              1017.3                        280.00   \n",
       "...                               ...                           ...   \n",
       "207725                         1014.5                        249.23   \n",
       "207726                         1014.3                        255.00   \n",
       "207727                         1014.5                        137.69   \n",
       "207728                         1014.7                          0.00   \n",
       "207729                         1015.0                        219.23   \n",
       "\n",
       "        Max Wind Speed (mph)  Unnamed: 13  \n",
       "0                       17.3          NaN  \n",
       "1                       16.1          NaN  \n",
       "2                       15.0          NaN  \n",
       "3                       16.1          NaN  \n",
       "4                       12.7          NaN  \n",
       "...                      ...          ...  \n",
       "207725                  12.7          NaN  \n",
       "207726                   6.9          NaN  \n",
       "207727                   5.8          NaN  \n",
       "207728                   0.0          NaN  \n",
       "207729                   6.9          NaN  \n",
       "\n",
       "[207730 rows x 14 columns]"
      ]
     },
     "execution_count": 9,
     "metadata": {},
     "output_type": "execute_result"
    }
   ],
   "source": [
    "# ANSWER\n",
    "df_temps = pd.read_csv(os.path.join(os.path.dirname(os.getcwd()), \"data/faa_hourly-KIPT_20000101-20231231_raw.csv\"), skiprows=15)\n",
    "df_temps"
   ]
  },
  {
   "cell_type": "markdown",
   "metadata": {},
   "source": [
    "---\n",
    "**2)**\tReport the general structure of the data frame using `df_temps.info()`. Notice any column that is read in as a plain `object` type. You should have one column with this problem."
   ]
  },
  {
   "cell_type": "code",
   "execution_count": 10,
   "metadata": {},
   "outputs": [
    {
     "name": "stdout",
     "output_type": "stream",
     "text": [
      "<class 'pandas.core.frame.DataFrame'>\n",
      "RangeIndex: 207730 entries, 0 to 207729\n",
      "Data columns (total 14 columns):\n",
      " #   Column                         Non-Null Count   Dtype  \n",
      "---  ------                         --------------   -----  \n",
      " 0   Date/Time (GMT)                207730 non-null  object \n",
      " 1   Number of Observations (n/a)   207730 non-null  int64  \n",
      " 2   Average Temp (F)               206660 non-null  float64\n",
      " 3   Max Temp (F)                   206660 non-null  float64\n",
      " 4   Min Temp (F)                   206660 non-null  float64\n",
      " 5   Average Dewpoint Temp (F)      206538 non-null  float64\n",
      " 6   1 Hour Precip (in)             33203 non-null   float64\n",
      " 7   Max Wind Gust (mph)            28228 non-null   float64\n",
      " 8   Average Relative Humidity (%)  202150 non-null  float64\n",
      " 9   Average Wind Speed (mph)       207117 non-null  float64\n",
      " 10  Average Station Pressure (mb)  207369 non-null  float64\n",
      " 11  Average Wind Direction (deg)   173683 non-null  float64\n",
      " 12  Max Wind Speed (mph)           207117 non-null  float64\n",
      " 13  Unnamed: 13                    0 non-null       float64\n",
      "dtypes: float64(12), int64(1), object(1)\n",
      "memory usage: 22.2+ MB\n"
     ]
    }
   ],
   "source": [
    "# ANSWER\n",
    "df_temps.info()"
   ]
  },
  {
   "cell_type": "markdown",
   "metadata": {
    "collapsed": false,
    "jupyter": {
     "outputs_hidden": false
    }
   },
   "source": [
    "---\n",
    "This is a pretty good dataset with lots of real problems! It gives you a chance to understand how important it is to select the smallest, yet most accurate data type for every variable. This is particularly true with respect to your memory footprint. With enormous data involving millions of records, you often need to perform various paging exercises to load in chunks of data into memory, substantially slowing down the machine learning methods. In other words, the more data you can fit in memory, the better! (In reality, the above is quoting a relatively small amount of memory. But, it's never too early to develop good habits!)\n"
   ]
  },
  {
   "cell_type": "markdown",
   "metadata": {},
   "source": [
    "---\n",
    "**3)**\t[P] Read about the `memory_usage()` method of pandas data frames. Then, report the total memory in bytes for each variable of df_temps. Set the parameter `drop=True`, to get the most accurate assessment of your total memory usage."
   ]
  },
  {
   "cell_type": "code",
   "execution_count": 11,
   "metadata": {},
   "outputs": [
    {
     "data": {
      "text/plain": [
       "Index                                 128\n",
       "Date/Time (GMT)                  15787480\n",
       "Number of Observations (n/a)      1661840\n",
       "Average Temp (F)                  1661840\n",
       "Max Temp (F)                      1661840\n",
       "Min Temp (F)                      1661840\n",
       "Average Dewpoint Temp (F)         1661840\n",
       "1 Hour Precip (in)                1661840\n",
       "Max Wind Gust (mph)               1661840\n",
       "Average Relative Humidity (%)     1661840\n",
       "Average Wind Speed (mph)          1661840\n",
       "Average Station Pressure (mb)     1661840\n",
       "Average Wind Direction (deg)      1661840\n",
       "Max Wind Speed (mph)              1661840\n",
       "Unnamed: 13                       1661840\n",
       "dtype: int64"
      ]
     },
     "execution_count": 11,
     "metadata": {},
     "output_type": "execute_result"
    }
   ],
   "source": [
    "# ANSWER\n",
    "df_temps.memory_usage(deep = True)"
   ]
  },
  {
   "cell_type": "markdown",
   "metadata": {},
   "source": [
    "---\n",
    "**4)**\tReport the total memory required for the data frame in MB. (Just sum the previous answer and correct your units accordingly)"
   ]
  },
  {
   "cell_type": "code",
   "execution_count": 12,
   "metadata": {},
   "outputs": [
    {
     "name": "stdout",
     "output_type": "stream",
     "text": [
      "35.66 mb\n"
     ]
    }
   ],
   "source": [
    "# ANSWER\n",
    "total_memory = df_temps.memory_usage(deep = True).sum()/1024/1024\n",
    "print(f'{round(total_memory,2)} mb')"
   ]
  },
  {
   "cell_type": "markdown",
   "metadata": {},
   "source": [
    "---\n",
    "**5)**\t[P] You have a rather annoying extra column that was read in in the last column position. (Look closely at the output of `info()` above!) You should always confirm that it's garbage before deleting it. Write the single line of code that reports the count of valid values in the last column (HINT: `count()`)\n",
    "\n",
    " "
   ]
  },
  {
   "cell_type": "code",
   "execution_count": 13,
   "metadata": {},
   "outputs": [
    {
     "data": {
      "text/plain": [
       "0"
      ]
     },
     "execution_count": 13,
     "metadata": {},
     "output_type": "execute_result"
    }
   ],
   "source": [
    "# ANSWER\n",
    "df_temps.iloc[:,-1].count()"
   ]
  },
  {
   "cell_type": "markdown",
   "metadata": {},
   "source": [
    "---\n",
    "**6)**\tDrop that last column from `df_temps`."
   ]
  },
  {
   "cell_type": "code",
   "execution_count": 14,
   "metadata": {},
   "outputs": [
    {
     "name": "stdout",
     "output_type": "stream",
     "text": [
      "<class 'pandas.core.frame.DataFrame'>\n",
      "RangeIndex: 207730 entries, 0 to 207729\n",
      "Data columns (total 13 columns):\n",
      " #   Column                         Non-Null Count   Dtype  \n",
      "---  ------                         --------------   -----  \n",
      " 0   Date/Time (GMT)                207730 non-null  object \n",
      " 1   Number of Observations (n/a)   207730 non-null  int64  \n",
      " 2   Average Temp (F)               206660 non-null  float64\n",
      " 3   Max Temp (F)                   206660 non-null  float64\n",
      " 4   Min Temp (F)                   206660 non-null  float64\n",
      " 5   Average Dewpoint Temp (F)      206538 non-null  float64\n",
      " 6   1 Hour Precip (in)             33203 non-null   float64\n",
      " 7   Max Wind Gust (mph)            28228 non-null   float64\n",
      " 8   Average Relative Humidity (%)  202150 non-null  float64\n",
      " 9   Average Wind Speed (mph)       207117 non-null  float64\n",
      " 10  Average Station Pressure (mb)  207369 non-null  float64\n",
      " 11  Average Wind Direction (deg)   173683 non-null  float64\n",
      " 12  Max Wind Speed (mph)           207117 non-null  float64\n",
      "dtypes: float64(11), int64(1), object(1)\n",
      "memory usage: 20.6+ MB\n"
     ]
    }
   ],
   "source": [
    "# ANSWER\n",
    "df_temps = df_temps.iloc[:,:-1]\n",
    "df_temps.info()"
   ]
  },
  {
   "cell_type": "markdown",
   "metadata": {},
   "source": [
    "---\n",
    "**7)**\t[M] Look over the data type column in the `info()` output. ALWAYS pay attention to the types of each variable. In particular, pay attention to the variables that are read in as `object` type. This implies that pandas did not have enough confidence to convert the type itself, and you need to do it. Are there any `object` types? If so what? What format are the data in that column(s)?"
   ]
  },
  {
   "cell_type": "markdown",
   "metadata": {},
   "source": [
    "**ANSWER**\n",
    "The singular object type within this dataset is the *Date (GMT)* column. It looks like this is supposed to be a DateTime python object, as it is in YYYY-DD-MM-HH-MM-SS. "
   ]
  },
  {
   "cell_type": "markdown",
   "metadata": {},
   "source": [
    "---\n",
    "**8)**\t[P] How many NaN values are in each variable? (NOTE: Leave the NaN fields alone! The fact that they are missing is IMPORTANT! And, leave the date/time variable in the first column alone. Dates are very common in data, and it is important that you represent dates as actual date types. We'll deal with that shortly.)"
   ]
  },
  {
   "cell_type": "code",
   "execution_count": 15,
   "metadata": {},
   "outputs": [
    {
     "data": {
      "text/plain": [
       "Date/Time (GMT)                       0\n",
       "Number of Observations (n/a)          0\n",
       "Average Temp (F)                   1070\n",
       "Max Temp (F)                       1070\n",
       "Min Temp (F)                       1070\n",
       "Average Dewpoint Temp (F)          1192\n",
       "1 Hour Precip (in)               174527\n",
       "Max Wind Gust (mph)              179502\n",
       "Average Relative Humidity (%)      5580\n",
       "Average Wind Speed (mph)            613\n",
       "Average Station Pressure (mb)       361\n",
       "Average Wind Direction (deg)      34047\n",
       "Max Wind Speed (mph)                613\n",
       "dtype: int64"
      ]
     },
     "execution_count": 15,
     "metadata": {},
     "output_type": "execute_result"
    }
   ],
   "source": [
    "# ANSWER\n",
    "df_temps.isna().sum()"
   ]
  },
  {
   "cell_type": "markdown",
   "metadata": {},
   "source": [
    "---\n",
    "**9)**\t[P] Report the NaN output as a percentage of the total number of values that are missing for each variable"
   ]
  },
  {
   "cell_type": "code",
   "execution_count": 16,
   "metadata": {},
   "outputs": [
    {
     "data": {
      "text/plain": [
       "Date/Time (GMT)                   0.000000\n",
       "Number of Observations (n/a)      0.000000\n",
       "Average Temp (F)                  0.267738\n",
       "Max Temp (F)                      0.267738\n",
       "Min Temp (F)                      0.267738\n",
       "Average Dewpoint Temp (F)         0.298265\n",
       "1 Hour Precip (in)               43.670508\n",
       "Max Wind Gust (mph)              44.915362\n",
       "Average Relative Humidity (%)     1.396239\n",
       "Average Wind Speed (mph)          0.153386\n",
       "Average Station Pressure (mb)     0.090330\n",
       "Average Wind Direction (deg)      8.519311\n",
       "Max Wind Speed (mph)              0.153386\n",
       "dtype: float64"
      ]
     },
     "execution_count": 16,
     "metadata": {},
     "output_type": "execute_result"
    }
   ],
   "source": [
    "# ANSWER\n",
    "df_temps.isna().sum()/df_temps.isna().sum().sum()*100"
   ]
  },
  {
   "cell_type": "markdown",
   "metadata": {},
   "source": [
    "---\n",
    "**10)**\t[PM] Report the number of observations have at least one missing value. Report this as a raw number and as a percentage of the total number of observations. Then, from the answer to the previous problem, clearly state why this is NOT a problem to be concerned about for this particular dataset. (HINT: Which variable(s) have most of the missing data? Why?)\n"
   ]
  },
  {
   "cell_type": "markdown",
   "metadata": {
    "collapsed": false,
    "jupyter": {
     "outputs_hidden": false
    }
   },
   "source": [
    "**ANSWER:**\n",
    "The fact that a vast majority of the rows within the dataset is not an issue, as the striking majority of nans are within two columns of data (Wind Gust, and 1-hr Precipitation). Thus, it isn't that the majority of the dataset is missing, but rather the majroity of the dataset does not hav\n"
   ]
  },
  {
   "cell_type": "code",
   "execution_count": 17,
   "metadata": {},
   "outputs": [
    {
     "name": "stdout",
     "output_type": "stream",
     "text": [
      "201609 rows have at least one nan, which is 97.05% of all rows\n"
     ]
    }
   ],
   "source": [
    "# ANSWER\n",
    "print(f'{len(df_temps[df_temps.isna().any(axis=1)])} rows have at least one nan, which is {round(len(df_temps[df_temps.isna().any(axis=1)])/len(df_temps)*100, 2)}% of all rows')"
   ]
  },
  {
   "cell_type": "markdown",
   "metadata": {},
   "source": [
    "---\n",
    "**11)**\t[P] Look over your data types. By default, most of the time pandas will convert your integer types to a 64-bit integer, and floating point types will use double precision numbers. You can do far better. Read over the `pd.to_numeric()` function. Did you notice the parameter called `downcast`? Go back and read about this parameter. Downcast your types accordingly. Then, look over the output of `info()` and report your latest memory usage in MB.\n",
    "\n",
    "\n",
    "\n"
   ]
  },
  {
   "cell_type": "code",
   "execution_count": 18,
   "metadata": {},
   "outputs": [
    {
     "name": "stdout",
     "output_type": "stream",
     "text": [
      "<class 'pandas.core.frame.DataFrame'>\n",
      "RangeIndex: 207730 entries, 0 to 207729\n",
      "Data columns (total 13 columns):\n",
      " #   Column                         Non-Null Count   Dtype  \n",
      "---  ------                         --------------   -----  \n",
      " 0   Date/Time (GMT)                207730 non-null  object \n",
      " 1   Number of Observations (n/a)   207730 non-null  int8   \n",
      " 2   Average Temp (F)               206660 non-null  float32\n",
      " 3   Max Temp (F)                   206660 non-null  float32\n",
      " 4   Min Temp (F)                   206660 non-null  float32\n",
      " 5   Average Dewpoint Temp (F)      206538 non-null  float32\n",
      " 6   1 Hour Precip (in)             33203 non-null   float32\n",
      " 7   Max Wind Gust (mph)            28228 non-null   float32\n",
      " 8   Average Relative Humidity (%)  202150 non-null  float32\n",
      " 9   Average Wind Speed (mph)       207117 non-null  float32\n",
      " 10  Average Station Pressure (mb)  207369 non-null  float32\n",
      " 11  Average Wind Direction (deg)   173683 non-null  float32\n",
      " 12  Max Wind Speed (mph)           207117 non-null  float32\n",
      "dtypes: float32(11), int8(1), object(1)\n",
      "memory usage: 10.5+ MB\n"
     ]
    }
   ],
   "source": [
    "# ANSWER\n",
    "df_temps['Number of Observations (n/a)'] = pd.to_numeric(df_temps['Number of Observations (n/a)'], downcast = \"integer\")\n",
    "for col in df_temps.columns[2:]: \n",
    "    df_temps[col] = pd.to_numeric(df_temps[col], downcast =\"float\")\n",
    "df_temps.info()"
   ]
  },
  {
   "cell_type": "markdown",
   "metadata": {},
   "source": [
    "---\n",
    "**12)**\t[P] How much did our memory footprint improve? (Show the total memory usage using `deep=True`). Report the total memory usage in MB, and report the percentage improvement. (HINT: You should have reduced your memory footprint by about 32.7% so far)"
   ]
  },
  {
   "cell_type": "code",
   "execution_count": 19,
   "metadata": {},
   "outputs": [
    {
     "name": "stdout",
     "output_type": "stream",
     "text": [
      "% Memory reduction 32.78%\n"
     ]
    }
   ],
   "source": [
    "# ANSWER\n",
    "new_usage = df_temps.memory_usage(deep = True).sum()/1024/1024\n",
    "print(f'% Memory reduction {round((1- new_usage/total_memory) * 100, 2)}%')"
   ]
  },
  {
   "cell_type": "markdown",
   "metadata": {
    "collapsed": false,
    "jupyter": {
     "outputs_hidden": false
    }
   },
   "source": [
    "---\n",
    "# Data Transformations with Dates\n",
    "\n",
    "It is very common to deal with dates in data. Unfortunately, few organizations around the world have agreed to one format for universally representing dates in data. Adding to the complexity are time zones that you must deal with. We'll discuss that later. Let's suppose we wanted to represent February 6, 2023, depending on your location in the world, the date might be stored in the data as:\n",
    "\n",
    "* 02/06/2023\n",
    "* 06/02/23\n",
    "* 06/02/2023\n",
    "* 06.02.2023\n",
    "* 2023-Feb-06\n",
    "* February 06, 2023\n",
    "* 06-Feb-2023\n",
    "* 20230206\n",
    "\n",
    "And, there are others! Insanity! Can't we all just get along??? (Apparently not, especially when it comes to dates and times, and currencies, and food, and etc.) The fact is that these are all acceptable formats for dates. Sometimes pandas can do a pretty good just detecting date fields. However, as we noticed in this case, not always. It's up to YOU to make sure you convert your data to the most appropriate type.\n",
    "\n",
    "Generally speaking, when your data consists of a series of observations recorded over time, we refer to these types of data as **time series** data. And, usually every observation will have a time or a date variable that identifies when the observation was recorded.\n",
    "\n",
    "[Time series / date functionality](https://pandas.pydata.org/pandas-docs/stable/user_guide/timeseries.html) has just about everything you need to deal with dates with time series data. It has far more than you'll need   . As with most of the API with core packages like pandas, there is a LOT to absorb, and at best, you'll just become familiar with how to find the answers you are after in their documentation!\n",
    "\n",
    "This portion of the lab will help you learn how to confidently work with dates and times in data.\n",
    "\n"
   ]
  },
  {
   "cell_type": "markdown",
   "metadata": {},
   "source": [
    "---\n",
    "**13)**\t[M] There are four primary classes in pandas for working with dates and times? Consider the Scalar Class for each, and state what concept each is representing."
   ]
  },
  {
   "cell_type": "markdown",
   "metadata": {},
   "source": [
    "**ANSWER:** \n",
    "The first class for dates and times in pandas is Timestamp. This is equivalent to the DateTimeIndex Array Class, and is generally used to represent static Dates/Times. \\\n",
    "The second class for dates and times in pandas is Timedeltas. This is equivalent to the TimeDeltaIndex Array Class and is generally used to represent the absolute time difference  between two static Dates/Times. \\\n",
    "The third class for dates and times in pandas is Period. This is equivalent to the PeriodIndex Array Class and is generally used to represent time spans. \\\n",
    "The final class used for dates and times in pandas is DateOffset. This does not have an array class equivalent and is used to represent a relative time duration that respects calendar arithmetic."
   ]
  },
  {
   "cell_type": "markdown",
   "metadata": {},
   "source": [
    "---\n",
    "**14)**\t[M] For each above, state the primary creation method used to create each type of data"
   ]
  },
  {
   "cell_type": "markdown",
   "metadata": {},
   "source": [
    "**ANSWER:**\n",
    "For Timestamp, *to_datetime* or *date_range* is used. \\\n",
    "For Timedeltas, *to_timedelta* or *timedelta_range* is used. \\\n",
    "For Periods, *Period* or *period_range* is used.\\\n",
    "For DateOffsets, *DateOffset* is used.\n",
    "\n",
    "\n",
    "\n",
    "\n"
   ]
  },
  {
   "cell_type": "markdown",
   "metadata": {},
   "source": [
    "---\n",
    "**15)**\t[P] Create a Timestamp object from the string \"07/04/19\", which is a date representing July 4, 2019. Store the object as `d1` and show it."
   ]
  },
  {
   "cell_type": "code",
   "execution_count": 20,
   "metadata": {},
   "outputs": [
    {
     "data": {
      "text/plain": [
       "Timestamp('2019-07-04 00:00:00')"
      ]
     },
     "execution_count": 20,
     "metadata": {},
     "output_type": "execute_result"
    }
   ],
   "source": [
    "# ANSWER\n",
    "d1 = pd.to_datetime(\"07/04/19\")\n",
    "d1\n"
   ]
  },
  {
   "cell_type": "markdown",
   "metadata": {},
   "source": [
    "---\n",
    "**16)**\t[P] Using `d1` and string formatting codes, print the string from `d1`:\n",
    "\n",
    "\"Today's date is Thursday, July 4, 2019\". "
   ]
  },
  {
   "cell_type": "code",
   "execution_count": 21,
   "metadata": {},
   "outputs": [
    {
     "name": "stdout",
     "output_type": "stream",
     "text": [
      "Today's date is Thursday, July 4, 2019\n"
     ]
    }
   ],
   "source": [
    "# ANSWER\n",
    "print(f'Today\\'s date is {d1.day_name()}, {d1.month_name()} {d1.day}, {d1.year}')\n"
   ]
  },
  {
   "cell_type": "markdown",
   "metadata": {},
   "source": [
    "---\n",
    "**17)**\t[P] Create another Timestamp object representing Sept 7, 2019 at 3pm, called `d2`. Report it"
   ]
  },
  {
   "cell_type": "code",
   "execution_count": 22,
   "metadata": {},
   "outputs": [
    {
     "data": {
      "text/plain": [
       "Timestamp('2019-09-07 15:00:00')"
      ]
     },
     "execution_count": 22,
     "metadata": {},
     "output_type": "execute_result"
    }
   ],
   "source": [
    "# ANSWER\n",
    "d2 = pd.to_datetime(\"09/7/19 15:00:00\")\n",
    "d2"
   ]
  },
  {
   "cell_type": "markdown",
   "metadata": {},
   "source": [
    "---\n",
    "**18)**\t[P] Subtract `d1` from the value of `d2` (i.e `d2 - d1`) and report the difference as the number of days and seconds between these two. Also report the difference as total seconds.  (NOTE: The difference should be 65 days, 54000 seconds. Or 5670000 total seconds.)"
   ]
  },
  {
   "cell_type": "code",
   "execution_count": 23,
   "metadata": {},
   "outputs": [
    {
     "name": "stdout",
     "output_type": "stream",
     "text": [
      "The time between the two Timestamps is 5670000.0 seconds or 65 days and 54000.0 seconds.\n"
     ]
    }
   ],
   "source": [
    "# ANSWER\n",
    "print(f'The time between the two Timestamps is {(d2-d1).total_seconds()} seconds or {(d2-d1).days} days and {(d2-d1).total_seconds()%(24*3600)} seconds.')\n"
   ]
  },
  {
   "cell_type": "markdown",
   "metadata": {},
   "source": [
    "---\n",
    "**19)**\t[P] Create a new Timestamp object from the string \"2019-07-01 08:30pm\", but, localize the time stamp to represent the time in the US Eastern Time Zone. Store the result as `d3` and output it."
   ]
  },
  {
   "cell_type": "code",
   "execution_count": 24,
   "metadata": {},
   "outputs": [
    {
     "data": {
      "text/plain": [
       "Timestamp('2019-07-01 20:30:00-0400', tz='US/Eastern')"
      ]
     },
     "execution_count": 24,
     "metadata": {},
     "output_type": "execute_result"
    }
   ],
   "source": [
    "# ANSWER\n",
    "d3 = pd.to_datetime(\"2019-07-01 08:30pm\").tz_localize('US/Eastern')\n",
    "d3"
   ]
  },
  {
   "cell_type": "markdown",
   "metadata": {},
   "source": [
    "---\n",
    "**20)**\t[P] Show time represented by `d3`, but converted to the US / Pacific Time Zone. The time reported should be three hours earlier than EST shown in the previous question."
   ]
  },
  {
   "cell_type": "code",
   "execution_count": 25,
   "metadata": {},
   "outputs": [
    {
     "data": {
      "text/plain": [
       "Timestamp('2019-07-01 17:30:00-0700', tz='US/Pacific')"
      ]
     },
     "execution_count": 25,
     "metadata": {},
     "output_type": "execute_result"
    }
   ],
   "source": [
    "# ANSWER\n",
    "d3.tz_convert(\"US/Pacific\")"
   ]
  },
  {
   "cell_type": "markdown",
   "metadata": {},
   "source": [
    "---\n",
    "**21)**\t[P] Create a Timestamp object representing right now, stored as `ts_now`. Report the result.\n"
   ]
  },
  {
   "cell_type": "code",
   "execution_count": 26,
   "metadata": {},
   "outputs": [
    {
     "data": {
      "text/plain": [
       "Timestamp('2024-02-18 19:04:29.232065-0500', tz='EST')"
      ]
     },
     "execution_count": 26,
     "metadata": {},
     "output_type": "execute_result"
    }
   ],
   "source": [
    "# ANSWER\n",
    "ts_now = pd.Timestamp.now(tz = \"EST\")\n",
    "ts_now"
   ]
  },
  {
   "cell_type": "markdown",
   "metadata": {},
   "source": [
    "---\n",
    "**22)**\t[P] Create a Timedelta object representing 1 hour, stored as `td_hour`. Report the result."
   ]
  },
  {
   "cell_type": "code",
   "execution_count": 27,
   "metadata": {},
   "outputs": [
    {
     "data": {
      "text/plain": [
       "Timedelta('0 days 01:00:00')"
      ]
     },
     "execution_count": 27,
     "metadata": {},
     "output_type": "execute_result"
    }
   ],
   "source": [
    "# ANSWER\n",
    "td_hour = pd.Timedelta(hours = 1)\n",
    "td_hour"
   ]
  },
  {
   "cell_type": "markdown",
   "metadata": {},
   "source": [
    "---\n",
    "**23)**\t[P] Demonstrate how you can do basic mathematical operations by adding 6 hours to `ts_now` using `td_hour` and basic math operations. (i.e. No loops or further calculations necessary!)"
   ]
  },
  {
   "cell_type": "code",
   "execution_count": 28,
   "metadata": {},
   "outputs": [
    {
     "data": {
      "text/plain": [
       "Timestamp('2024-02-18 20:04:29.232065-0500', tz='EST')"
      ]
     },
     "execution_count": 28,
     "metadata": {},
     "output_type": "execute_result"
    }
   ],
   "source": [
    "# ANSWER\n",
    "ts_adjusted = ts_now + td_hour\n",
    "ts_adjusted"
   ]
  },
  {
   "cell_type": "markdown",
   "metadata": {},
   "source": [
    "---\n",
    "**24)**\t[P] Create a DatetimeIndex object that represents every hour during the month of January, 2020. The first index should be midnight, January 1, 2020, and the last index should be January 31, 2020 at 11pm. Store the object as `dr`. (HINT – use the `pd.date_range()` method)"
   ]
  },
  {
   "cell_type": "code",
   "execution_count": 29,
   "metadata": {},
   "outputs": [
    {
     "data": {
      "text/plain": [
       "DatetimeIndex(['2020-01-01 00:00:00', '2020-01-01 01:00:00',\n",
       "               '2020-01-01 02:00:00', '2020-01-01 03:00:00',\n",
       "               '2020-01-01 04:00:00', '2020-01-01 05:00:00',\n",
       "               '2020-01-01 06:00:00', '2020-01-01 07:00:00',\n",
       "               '2020-01-01 08:00:00', '2020-01-01 09:00:00',\n",
       "               ...\n",
       "               '2020-01-31 14:00:00', '2020-01-31 15:00:00',\n",
       "               '2020-01-31 16:00:00', '2020-01-31 17:00:00',\n",
       "               '2020-01-31 18:00:00', '2020-01-31 19:00:00',\n",
       "               '2020-01-31 20:00:00', '2020-01-31 21:00:00',\n",
       "               '2020-01-31 22:00:00', '2020-01-31 23:00:00'],\n",
       "              dtype='datetime64[ns]', length=744, freq='H')"
      ]
     },
     "execution_count": 29,
     "metadata": {},
     "output_type": "execute_result"
    }
   ],
   "source": [
    "# ANSWER\n",
    "start_date = pd.Timestamp(\"1,1,2020\")\n",
    "end_date = pd.Timestamp(\"2,1,2020\")\n",
    "dr = pd.date_range(start = start_date, end = end_date, freq = 'H')[:-1]\n",
    "dr"
   ]
  },
  {
   "cell_type": "markdown",
   "metadata": {
    "collapsed": false,
    "jupyter": {
     "outputs_hidden": false
    }
   },
   "source": [
    "---\n",
    "OK, so that was a little practice with understanding how to work a bit with dates and times. They are objects, with lots of methods to help you access those timestamps in different ways.\n",
    "\n",
    "Back to our weather data. Usually, the index to a dataframe represents the data you will use most often to access and select your data. In the case of a time series dataset, the index is usually the time. In other words, every observation should be indexed by a Timestamp object! You'll make that happen next…"
   ]
  },
  {
   "cell_type": "markdown",
   "metadata": {},
   "source": [
    "---\n",
    "**25)**\t[P] The first variable in our data is currently an object. But, notice the name and its units? It's a date/time in the GMT time zone! Convert the first column of data into an actual time stamp.\n",
    "\n",
    "NOTE: You can NOT simply generate this column using your own date range object! You must generate it directly from the actual time/date stamp in the data! Why? **This is very important. Do NOT ever be fooled into thinking any real-world dataset you are dealing with is 100% complete.** There are **missing observations** in these data, and your data will be massively flawed if you neglect this! If you simply try to use a date range between 1/1 – 12/31, with every hour, you are making an incorrect assumption that every observation is present.\n",
    "\n",
    "(HINT: Go back to your reference table. You are creating an array of timestamps. Which function? Either `to_datetime` or `date_range`. We already told you that `date_range` is wrong above.)\n"
   ]
  },
  {
   "cell_type": "code",
   "execution_count": 30,
   "metadata": {},
   "outputs": [],
   "source": [
    "# ANSWER\n",
    "df_temps['Date/Time (GMT)'] = pd.to_datetime(df_temps['Date/Time (GMT)'])"
   ]
  },
  {
   "cell_type": "markdown",
   "metadata": {},
   "source": [
    "---\n",
    "**26)**\t[P] Confirm that your first column data type is now a timestamp by showing the output of `df_temps.info()`. (It should show that it is datetime64, to be exact) .  Then, show the values of the first column of the first AND last row only.  Your result should look like:\n",
    "\n",
    "```\n",
    "0        2000-01-01 00:00:00\n",
    "207729   2023-12-31 23:00:00\n",
    "```"
   ]
  },
  {
   "cell_type": "code",
   "execution_count": 31,
   "metadata": {},
   "outputs": [
    {
     "name": "stdout",
     "output_type": "stream",
     "text": [
      "<class 'pandas.core.frame.DataFrame'>\n",
      "RangeIndex: 207730 entries, 0 to 207729\n",
      "Data columns (total 13 columns):\n",
      " #   Column                         Non-Null Count   Dtype         \n",
      "---  ------                         --------------   -----         \n",
      " 0   Date/Time (GMT)                207730 non-null  datetime64[ns]\n",
      " 1   Number of Observations (n/a)   207730 non-null  int8          \n",
      " 2   Average Temp (F)               206660 non-null  float32       \n",
      " 3   Max Temp (F)                   206660 non-null  float32       \n",
      " 4   Min Temp (F)                   206660 non-null  float32       \n",
      " 5   Average Dewpoint Temp (F)      206538 non-null  float32       \n",
      " 6   1 Hour Precip (in)             33203 non-null   float32       \n",
      " 7   Max Wind Gust (mph)            28228 non-null   float32       \n",
      " 8   Average Relative Humidity (%)  202150 non-null  float32       \n",
      " 9   Average Wind Speed (mph)       207117 non-null  float32       \n",
      " 10  Average Station Pressure (mb)  207369 non-null  float32       \n",
      " 11  Average Wind Direction (deg)   173683 non-null  float32       \n",
      " 12  Max Wind Speed (mph)           207117 non-null  float32       \n",
      "dtypes: datetime64[ns](1), float32(11), int8(1)\n",
      "memory usage: 10.5 MB\n",
      "None\n",
      " 0 2000-01-01 00:00:00\n",
      " 207729 2023-12-31 23:00:00\n"
     ]
    }
   ],
   "source": [
    "# ANSWER\n",
    "print(df_temps.info())\n",
    "print(f' {df_temps.index[0]} {df_temps.iloc[0,0]}')\n",
    "print(f' {df_temps.index[-1]} {df_temps.iloc[-1,0]}')"
   ]
  },
  {
   "cell_type": "markdown",
   "metadata": {},
   "source": [
    "---\n",
    "**27)**\tFinally, let's move that first column to be the new index for your dataframe. Use the `set_index` method of `df_temps` to be the first column of data, then use the `drop` method to eliminate the first column. It is now your index, and thus there is no need to keep this information twice."
   ]
  },
  {
   "cell_type": "code",
   "execution_count": 32,
   "metadata": {},
   "outputs": [
    {
     "data": {
      "text/html": [
       "<div>\n",
       "<style scoped>\n",
       "    .dataframe tbody tr th:only-of-type {\n",
       "        vertical-align: middle;\n",
       "    }\n",
       "\n",
       "    .dataframe tbody tr th {\n",
       "        vertical-align: top;\n",
       "    }\n",
       "\n",
       "    .dataframe thead th {\n",
       "        text-align: right;\n",
       "    }\n",
       "</style>\n",
       "<table border=\"1\" class=\"dataframe\">\n",
       "  <thead>\n",
       "    <tr style=\"text-align: right;\">\n",
       "      <th></th>\n",
       "      <th>Number of Observations (n/a)</th>\n",
       "      <th>Average Temp (F)</th>\n",
       "      <th>Max Temp (F)</th>\n",
       "      <th>Min Temp (F)</th>\n",
       "      <th>Average Dewpoint Temp (F)</th>\n",
       "      <th>1 Hour Precip (in)</th>\n",
       "      <th>Max Wind Gust (mph)</th>\n",
       "      <th>Average Relative Humidity (%)</th>\n",
       "      <th>Average Wind Speed (mph)</th>\n",
       "      <th>Average Station Pressure (mb)</th>\n",
       "      <th>Average Wind Direction (deg)</th>\n",
       "      <th>Max Wind Speed (mph)</th>\n",
       "    </tr>\n",
       "    <tr>\n",
       "      <th>Date/Time (GMT)</th>\n",
       "      <th></th>\n",
       "      <th></th>\n",
       "      <th></th>\n",
       "      <th></th>\n",
       "      <th></th>\n",
       "      <th></th>\n",
       "      <th></th>\n",
       "      <th></th>\n",
       "      <th></th>\n",
       "      <th></th>\n",
       "      <th></th>\n",
       "      <th></th>\n",
       "    </tr>\n",
       "  </thead>\n",
       "  <tbody>\n",
       "    <tr>\n",
       "      <th>2000-01-01 00:00:00</th>\n",
       "      <td>1</td>\n",
       "      <td>26.100000</td>\n",
       "      <td>26.100000</td>\n",
       "      <td>26.100000</td>\n",
       "      <td>14.000000</td>\n",
       "      <td>NaN</td>\n",
       "      <td>20.700001</td>\n",
       "      <td>59.000000</td>\n",
       "      <td>17.299999</td>\n",
       "      <td>1015.200012</td>\n",
       "      <td>280.000000</td>\n",
       "      <td>17.299999</td>\n",
       "    </tr>\n",
       "    <tr>\n",
       "      <th>2000-01-01 01:00:00</th>\n",
       "      <td>1</td>\n",
       "      <td>26.100000</td>\n",
       "      <td>26.100000</td>\n",
       "      <td>26.100000</td>\n",
       "      <td>14.000000</td>\n",
       "      <td>NaN</td>\n",
       "      <td>NaN</td>\n",
       "      <td>59.000000</td>\n",
       "      <td>16.100000</td>\n",
       "      <td>1015.900024</td>\n",
       "      <td>280.000000</td>\n",
       "      <td>16.100000</td>\n",
       "    </tr>\n",
       "    <tr>\n",
       "      <th>2000-01-01 02:00:00</th>\n",
       "      <td>1</td>\n",
       "      <td>26.100000</td>\n",
       "      <td>26.100000</td>\n",
       "      <td>26.100000</td>\n",
       "      <td>15.100000</td>\n",
       "      <td>NaN</td>\n",
       "      <td>NaN</td>\n",
       "      <td>62.000000</td>\n",
       "      <td>15.000000</td>\n",
       "      <td>1016.299988</td>\n",
       "      <td>280.000000</td>\n",
       "      <td>15.000000</td>\n",
       "    </tr>\n",
       "    <tr>\n",
       "      <th>2000-01-01 03:00:00</th>\n",
       "      <td>1</td>\n",
       "      <td>26.100000</td>\n",
       "      <td>26.100000</td>\n",
       "      <td>26.100000</td>\n",
       "      <td>12.000000</td>\n",
       "      <td>NaN</td>\n",
       "      <td>NaN</td>\n",
       "      <td>54.000000</td>\n",
       "      <td>16.100000</td>\n",
       "      <td>1016.599976</td>\n",
       "      <td>270.000000</td>\n",
       "      <td>16.100000</td>\n",
       "    </tr>\n",
       "    <tr>\n",
       "      <th>2000-01-01 04:00:00</th>\n",
       "      <td>1</td>\n",
       "      <td>26.100000</td>\n",
       "      <td>26.100000</td>\n",
       "      <td>26.100000</td>\n",
       "      <td>14.000000</td>\n",
       "      <td>NaN</td>\n",
       "      <td>NaN</td>\n",
       "      <td>59.000000</td>\n",
       "      <td>12.700000</td>\n",
       "      <td>1017.299988</td>\n",
       "      <td>280.000000</td>\n",
       "      <td>12.700000</td>\n",
       "    </tr>\n",
       "    <tr>\n",
       "      <th>...</th>\n",
       "      <td>...</td>\n",
       "      <td>...</td>\n",
       "      <td>...</td>\n",
       "      <td>...</td>\n",
       "      <td>...</td>\n",
       "      <td>...</td>\n",
       "      <td>...</td>\n",
       "      <td>...</td>\n",
       "      <td>...</td>\n",
       "      <td>...</td>\n",
       "      <td>...</td>\n",
       "      <td>...</td>\n",
       "    </tr>\n",
       "    <tr>\n",
       "      <th>2023-12-31 19:00:00</th>\n",
       "      <td>13</td>\n",
       "      <td>40.720001</td>\n",
       "      <td>41.000000</td>\n",
       "      <td>39.200001</td>\n",
       "      <td>26.450001</td>\n",
       "      <td>NaN</td>\n",
       "      <td>NaN</td>\n",
       "      <td>56.689999</td>\n",
       "      <td>8.680000</td>\n",
       "      <td>1014.500000</td>\n",
       "      <td>249.229996</td>\n",
       "      <td>12.700000</td>\n",
       "    </tr>\n",
       "    <tr>\n",
       "      <th>2023-12-31 20:00:00</th>\n",
       "      <td>13</td>\n",
       "      <td>40.500000</td>\n",
       "      <td>41.000000</td>\n",
       "      <td>39.200001</td>\n",
       "      <td>26.450001</td>\n",
       "      <td>NaN</td>\n",
       "      <td>NaN</td>\n",
       "      <td>57.150002</td>\n",
       "      <td>5.950000</td>\n",
       "      <td>1014.299988</td>\n",
       "      <td>255.000000</td>\n",
       "      <td>6.900000</td>\n",
       "    </tr>\n",
       "    <tr>\n",
       "      <th>2023-12-31 21:00:00</th>\n",
       "      <td>13</td>\n",
       "      <td>39.250000</td>\n",
       "      <td>39.900002</td>\n",
       "      <td>39.200001</td>\n",
       "      <td>27.620001</td>\n",
       "      <td>NaN</td>\n",
       "      <td>NaN</td>\n",
       "      <td>63.000000</td>\n",
       "      <td>2.410000</td>\n",
       "      <td>1014.500000</td>\n",
       "      <td>137.690002</td>\n",
       "      <td>5.800000</td>\n",
       "    </tr>\n",
       "    <tr>\n",
       "      <th>2023-12-31 22:00:00</th>\n",
       "      <td>13</td>\n",
       "      <td>38.959999</td>\n",
       "      <td>39.200001</td>\n",
       "      <td>37.400002</td>\n",
       "      <td>27.110001</td>\n",
       "      <td>NaN</td>\n",
       "      <td>NaN</td>\n",
       "      <td>62.459999</td>\n",
       "      <td>0.000000</td>\n",
       "      <td>1014.700012</td>\n",
       "      <td>0.000000</td>\n",
       "      <td>0.000000</td>\n",
       "    </tr>\n",
       "    <tr>\n",
       "      <th>2023-12-31 23:00:00</th>\n",
       "      <td>13</td>\n",
       "      <td>38.910000</td>\n",
       "      <td>39.200001</td>\n",
       "      <td>37.400002</td>\n",
       "      <td>28.850000</td>\n",
       "      <td>NaN</td>\n",
       "      <td>NaN</td>\n",
       "      <td>67.309998</td>\n",
       "      <td>4.820000</td>\n",
       "      <td>1015.000000</td>\n",
       "      <td>219.229996</td>\n",
       "      <td>6.900000</td>\n",
       "    </tr>\n",
       "  </tbody>\n",
       "</table>\n",
       "<p>207730 rows × 12 columns</p>\n",
       "</div>"
      ],
      "text/plain": [
       "                     Number of Observations (n/a)  Average Temp (F)  \\\n",
       "Date/Time (GMT)                                                       \n",
       "2000-01-01 00:00:00                             1         26.100000   \n",
       "2000-01-01 01:00:00                             1         26.100000   \n",
       "2000-01-01 02:00:00                             1         26.100000   \n",
       "2000-01-01 03:00:00                             1         26.100000   \n",
       "2000-01-01 04:00:00                             1         26.100000   \n",
       "...                                           ...               ...   \n",
       "2023-12-31 19:00:00                            13         40.720001   \n",
       "2023-12-31 20:00:00                            13         40.500000   \n",
       "2023-12-31 21:00:00                            13         39.250000   \n",
       "2023-12-31 22:00:00                            13         38.959999   \n",
       "2023-12-31 23:00:00                            13         38.910000   \n",
       "\n",
       "                     Max Temp (F)  Min Temp (F)  Average Dewpoint Temp (F)  \\\n",
       "Date/Time (GMT)                                                              \n",
       "2000-01-01 00:00:00     26.100000     26.100000                  14.000000   \n",
       "2000-01-01 01:00:00     26.100000     26.100000                  14.000000   \n",
       "2000-01-01 02:00:00     26.100000     26.100000                  15.100000   \n",
       "2000-01-01 03:00:00     26.100000     26.100000                  12.000000   \n",
       "2000-01-01 04:00:00     26.100000     26.100000                  14.000000   \n",
       "...                           ...           ...                        ...   \n",
       "2023-12-31 19:00:00     41.000000     39.200001                  26.450001   \n",
       "2023-12-31 20:00:00     41.000000     39.200001                  26.450001   \n",
       "2023-12-31 21:00:00     39.900002     39.200001                  27.620001   \n",
       "2023-12-31 22:00:00     39.200001     37.400002                  27.110001   \n",
       "2023-12-31 23:00:00     39.200001     37.400002                  28.850000   \n",
       "\n",
       "                     1 Hour Precip (in)  Max Wind Gust (mph)  \\\n",
       "Date/Time (GMT)                                                \n",
       "2000-01-01 00:00:00                 NaN            20.700001   \n",
       "2000-01-01 01:00:00                 NaN                  NaN   \n",
       "2000-01-01 02:00:00                 NaN                  NaN   \n",
       "2000-01-01 03:00:00                 NaN                  NaN   \n",
       "2000-01-01 04:00:00                 NaN                  NaN   \n",
       "...                                 ...                  ...   \n",
       "2023-12-31 19:00:00                 NaN                  NaN   \n",
       "2023-12-31 20:00:00                 NaN                  NaN   \n",
       "2023-12-31 21:00:00                 NaN                  NaN   \n",
       "2023-12-31 22:00:00                 NaN                  NaN   \n",
       "2023-12-31 23:00:00                 NaN                  NaN   \n",
       "\n",
       "                     Average Relative Humidity (%)  Average Wind Speed (mph)  \\\n",
       "Date/Time (GMT)                                                                \n",
       "2000-01-01 00:00:00                      59.000000                 17.299999   \n",
       "2000-01-01 01:00:00                      59.000000                 16.100000   \n",
       "2000-01-01 02:00:00                      62.000000                 15.000000   \n",
       "2000-01-01 03:00:00                      54.000000                 16.100000   \n",
       "2000-01-01 04:00:00                      59.000000                 12.700000   \n",
       "...                                            ...                       ...   \n",
       "2023-12-31 19:00:00                      56.689999                  8.680000   \n",
       "2023-12-31 20:00:00                      57.150002                  5.950000   \n",
       "2023-12-31 21:00:00                      63.000000                  2.410000   \n",
       "2023-12-31 22:00:00                      62.459999                  0.000000   \n",
       "2023-12-31 23:00:00                      67.309998                  4.820000   \n",
       "\n",
       "                     Average Station Pressure (mb)  \\\n",
       "Date/Time (GMT)                                      \n",
       "2000-01-01 00:00:00                    1015.200012   \n",
       "2000-01-01 01:00:00                    1015.900024   \n",
       "2000-01-01 02:00:00                    1016.299988   \n",
       "2000-01-01 03:00:00                    1016.599976   \n",
       "2000-01-01 04:00:00                    1017.299988   \n",
       "...                                            ...   \n",
       "2023-12-31 19:00:00                    1014.500000   \n",
       "2023-12-31 20:00:00                    1014.299988   \n",
       "2023-12-31 21:00:00                    1014.500000   \n",
       "2023-12-31 22:00:00                    1014.700012   \n",
       "2023-12-31 23:00:00                    1015.000000   \n",
       "\n",
       "                     Average Wind Direction (deg)  Max Wind Speed (mph)  \n",
       "Date/Time (GMT)                                                          \n",
       "2000-01-01 00:00:00                    280.000000             17.299999  \n",
       "2000-01-01 01:00:00                    280.000000             16.100000  \n",
       "2000-01-01 02:00:00                    280.000000             15.000000  \n",
       "2000-01-01 03:00:00                    270.000000             16.100000  \n",
       "2000-01-01 04:00:00                    280.000000             12.700000  \n",
       "...                                           ...                   ...  \n",
       "2023-12-31 19:00:00                    249.229996             12.700000  \n",
       "2023-12-31 20:00:00                    255.000000              6.900000  \n",
       "2023-12-31 21:00:00                    137.690002              5.800000  \n",
       "2023-12-31 22:00:00                      0.000000              0.000000  \n",
       "2023-12-31 23:00:00                    219.229996              6.900000  \n",
       "\n",
       "[207730 rows x 12 columns]"
      ]
     },
     "execution_count": 32,
     "metadata": {},
     "output_type": "execute_result"
    }
   ],
   "source": [
    "# ANSWER\n",
    "df_temps.set_index(df_temps.columns[0], inplace = True)\n",
    "df_temps.drop(df_temps.columns[0], axis = 1)\n",
    "df_temps\n",
    "#df_temps.set_index('Date (GMT)', inplace = True)"
   ]
  },
  {
   "cell_type": "markdown",
   "metadata": {},
   "source": [
    "---\n",
    "\n",
    "**28)**\t[P] Give one final report on the total memory usage, and also show the % memory reduction made compared to when you first loaded the data.\n",
    "\n",
    "Again, please take this seriously. This is a substantial amount of memory saved! Why? Because you took the time to properly process every column to have it represent its most accurate type, using the smallest type necessary. HUGE savings! (HINT: You should see a savings of 70.56% compared to the original data load!)"
   ]
  },
  {
   "cell_type": "code",
   "execution_count": 33,
   "metadata": {},
   "outputs": [
    {
     "name": "stdout",
     "output_type": "stream",
     "text": [
      "% Memory reduction 70.56%\n"
     ]
    }
   ],
   "source": [
    "# ANSWER\n",
    "new_usage = df_temps.memory_usage(deep = True).sum()/1024/1024\n",
    "print(f'% Memory reduction {round((1- new_usage/total_memory) * 100, 2)}%')"
   ]
  },
  {
   "cell_type": "markdown",
   "metadata": {},
   "source": [
    "---\n",
    "**29)**\t [P] This dataset has missing observations. But, how many? First, calculate how many observations SHOULD be there. Use the difference between the first and last index value to compute this.\n",
    "\n",
    "HINT: You should have well over 2500 missing hourly observations."
   ]
  },
  {
   "cell_type": "code",
   "execution_count": 34,
   "metadata": {},
   "outputs": [
    {
     "name": "stdout",
     "output_type": "stream",
     "text": [
      "8765 days 23:00:00\n",
      " There are 210383 hours between the first and last observation and 207730 columns meaning 2654 are missing\n"
     ]
    }
   ],
   "source": [
    "# ANSWER\n",
    "time_difference = pd.Timestamp(df_temps.index.values[-1]) - pd.Timestamp(df_temps.index.values[0]) \n",
    "print(time_difference)\n",
    "#It looks like there is one missing because the overflow hour is not tracked in this so I added 1 manually\n",
    "print(f' There are {round((time_difference.total_seconds())/60/60)} hours between the first and last observation and {df_temps.index.nunique()} columns meaning {round((time_difference.total_seconds())/60/60)-df_temps.shape[0]+1} are missing')"
   ]
  },
  {
   "cell_type": "markdown",
   "metadata": {},
   "source": [
    "---\n",
    "**30)**\t[P] There are quite a lot! It's time to investigate. Create a data frame called df_missing that has an index of the time stamp of every missing date, with a simple variable called \"missing\" that has a value of 1 for every entry. (i.e. it should only contain the missing dates.) Report the number of rows in df_missing. It should match the number you computed previously."
   ]
  },
  {
   "cell_type": "code",
   "execution_count": 35,
   "metadata": {},
   "outputs": [
    {
     "name": "stdout",
     "output_type": "stream",
     "text": [
      "                     missing\n",
      "2000-01-03 18:00:00        1\n",
      "2000-01-05 17:00:00        1\n",
      "2000-01-06 20:00:00        1\n",
      "2000-01-07 14:00:00        1\n",
      "2000-01-11 20:00:00        1\n",
      "...                      ...\n",
      "2023-08-29 07:00:00        1\n",
      "2023-08-29 08:00:00        1\n",
      "2023-08-29 09:00:00        1\n",
      "2023-08-29 11:00:00        1\n",
      "2023-08-30 09:00:00        1\n",
      "\n",
      "[2654 rows x 1 columns]\n"
     ]
    }
   ],
   "source": [
    "# ANSWER\n",
    "start_date = pd.Timestamp(\"2000-01-01\")\n",
    "end_date = pd.Timestamp(\"2023-12-31 23:00:00\")\n",
    "dr = pd.date_range(start = start_date, end = end_date, freq = 'H')[:-1]\n",
    "\n",
    "df_missing = pd.DataFrame({'missing':1},  index = dr[~dr.isin(df_temps.index)])\n",
    "print(df_missing)\n"
   ]
  },
  {
   "cell_type": "markdown",
   "metadata": {},
   "source": [
    "---\n",
    "**31)**\tLet's get a sense of which years seem to be missing the most data. How? Well, the easiest approach is probably to use the `resample()` method of data frames. Check out [this section on resampling](https://pandas.pydata.org/pandas-docs/stable/user_guide/timeseries.html#resampling). This method works phenomenally well for grouping and aggregating your data when you have a datetime index type.\n",
    "\n",
    "We're going to resample our data by year, and perform a count aggregation all in one line:\n",
    "\n",
    "Enter the following:\n",
    "`df_missing_by_year = df_missing.resample('Y').count()`\n",
    "\n",
    "There are many, many ways you can resample your data. You need to jump over to the options for dateoffset objects. Check out [DateOffset information](https://pandas.pydata.org/pandas-docs/stable/user_guide/timeseries.html#dateoffset-objects) you'll need.\n",
    "\n",
    "Show the result of `df_missing_by_year`\n",
    "\n",
    "HINT - your first four rows should something like the following...\n",
    "```\n",
    "                           missing\n",
    "2000-12-31 00:00:00+00:00      792\n",
    "2001-12-31 00:00:00+00:00       54\n",
    "2002-12-31 00:00:00+00:00       30\n",
    "2003-12-31 00:00:00+00:00       39\n",
    "```\n"
   ]
  },
  {
   "cell_type": "code",
   "execution_count": 36,
   "metadata": {},
   "outputs": [
    {
     "data": {
      "text/html": [
       "<div>\n",
       "<style scoped>\n",
       "    .dataframe tbody tr th:only-of-type {\n",
       "        vertical-align: middle;\n",
       "    }\n",
       "\n",
       "    .dataframe tbody tr th {\n",
       "        vertical-align: top;\n",
       "    }\n",
       "\n",
       "    .dataframe thead th {\n",
       "        text-align: right;\n",
       "    }\n",
       "</style>\n",
       "<table border=\"1\" class=\"dataframe\">\n",
       "  <thead>\n",
       "    <tr style=\"text-align: right;\">\n",
       "      <th></th>\n",
       "      <th>missing</th>\n",
       "    </tr>\n",
       "  </thead>\n",
       "  <tbody>\n",
       "    <tr>\n",
       "      <th>2000-12-31</th>\n",
       "      <td>792</td>\n",
       "    </tr>\n",
       "    <tr>\n",
       "      <th>2001-12-31</th>\n",
       "      <td>54</td>\n",
       "    </tr>\n",
       "    <tr>\n",
       "      <th>2002-12-31</th>\n",
       "      <td>30</td>\n",
       "    </tr>\n",
       "    <tr>\n",
       "      <th>2003-12-31</th>\n",
       "      <td>39</td>\n",
       "    </tr>\n",
       "    <tr>\n",
       "      <th>2004-12-31</th>\n",
       "      <td>72</td>\n",
       "    </tr>\n",
       "    <tr>\n",
       "      <th>2005-12-31</th>\n",
       "      <td>119</td>\n",
       "    </tr>\n",
       "    <tr>\n",
       "      <th>2006-12-31</th>\n",
       "      <td>32</td>\n",
       "    </tr>\n",
       "    <tr>\n",
       "      <th>2007-12-31</th>\n",
       "      <td>64</td>\n",
       "    </tr>\n",
       "    <tr>\n",
       "      <th>2008-12-31</th>\n",
       "      <td>193</td>\n",
       "    </tr>\n",
       "    <tr>\n",
       "      <th>2009-12-31</th>\n",
       "      <td>82</td>\n",
       "    </tr>\n",
       "    <tr>\n",
       "      <th>2010-12-31</th>\n",
       "      <td>40</td>\n",
       "    </tr>\n",
       "    <tr>\n",
       "      <th>2011-12-31</th>\n",
       "      <td>32</td>\n",
       "    </tr>\n",
       "    <tr>\n",
       "      <th>2012-12-31</th>\n",
       "      <td>152</td>\n",
       "    </tr>\n",
       "    <tr>\n",
       "      <th>2013-12-31</th>\n",
       "      <td>45</td>\n",
       "    </tr>\n",
       "    <tr>\n",
       "      <th>2014-12-31</th>\n",
       "      <td>38</td>\n",
       "    </tr>\n",
       "    <tr>\n",
       "      <th>2015-12-31</th>\n",
       "      <td>37</td>\n",
       "    </tr>\n",
       "    <tr>\n",
       "      <th>2016-12-31</th>\n",
       "      <td>27</td>\n",
       "    </tr>\n",
       "    <tr>\n",
       "      <th>2017-12-31</th>\n",
       "      <td>119</td>\n",
       "    </tr>\n",
       "    <tr>\n",
       "      <th>2018-12-31</th>\n",
       "      <td>67</td>\n",
       "    </tr>\n",
       "    <tr>\n",
       "      <th>2019-12-31</th>\n",
       "      <td>34</td>\n",
       "    </tr>\n",
       "    <tr>\n",
       "      <th>2020-12-31</th>\n",
       "      <td>93</td>\n",
       "    </tr>\n",
       "    <tr>\n",
       "      <th>2021-12-31</th>\n",
       "      <td>152</td>\n",
       "    </tr>\n",
       "    <tr>\n",
       "      <th>2022-12-31</th>\n",
       "      <td>110</td>\n",
       "    </tr>\n",
       "    <tr>\n",
       "      <th>2023-12-31</th>\n",
       "      <td>231</td>\n",
       "    </tr>\n",
       "  </tbody>\n",
       "</table>\n",
       "</div>"
      ],
      "text/plain": [
       "            missing\n",
       "2000-12-31      792\n",
       "2001-12-31       54\n",
       "2002-12-31       30\n",
       "2003-12-31       39\n",
       "2004-12-31       72\n",
       "2005-12-31      119\n",
       "2006-12-31       32\n",
       "2007-12-31       64\n",
       "2008-12-31      193\n",
       "2009-12-31       82\n",
       "2010-12-31       40\n",
       "2011-12-31       32\n",
       "2012-12-31      152\n",
       "2013-12-31       45\n",
       "2014-12-31       38\n",
       "2015-12-31       37\n",
       "2016-12-31       27\n",
       "2017-12-31      119\n",
       "2018-12-31       67\n",
       "2019-12-31       34\n",
       "2020-12-31       93\n",
       "2021-12-31      152\n",
       "2022-12-31      110\n",
       "2023-12-31      231"
      ]
     },
     "execution_count": 36,
     "metadata": {},
     "output_type": "execute_result"
    }
   ],
   "source": [
    "# ANSWER\n",
    "df_missing_by_year = df_missing.resample('Y').count()\n",
    "df_missing_by_year"
   ]
  },
  {
   "cell_type": "markdown",
   "metadata": {},
   "source": [
    "---\n",
    "**32)**\t[P] You can see that pretty much every year has missing data. Not uncommon. However, one year in particular is really bad. Which one? Write the code to eliminate that entire year from `df_temps`."
   ]
  },
  {
   "cell_type": "code",
   "execution_count": 37,
   "metadata": {},
   "outputs": [
    {
     "data": {
      "text/html": [
       "<div>\n",
       "<style scoped>\n",
       "    .dataframe tbody tr th:only-of-type {\n",
       "        vertical-align: middle;\n",
       "    }\n",
       "\n",
       "    .dataframe tbody tr th {\n",
       "        vertical-align: top;\n",
       "    }\n",
       "\n",
       "    .dataframe thead th {\n",
       "        text-align: right;\n",
       "    }\n",
       "</style>\n",
       "<table border=\"1\" class=\"dataframe\">\n",
       "  <thead>\n",
       "    <tr style=\"text-align: right;\">\n",
       "      <th></th>\n",
       "      <th>Number of Observations (n/a)</th>\n",
       "      <th>Average Temp (F)</th>\n",
       "      <th>Max Temp (F)</th>\n",
       "      <th>Min Temp (F)</th>\n",
       "      <th>Average Dewpoint Temp (F)</th>\n",
       "      <th>1 Hour Precip (in)</th>\n",
       "      <th>Max Wind Gust (mph)</th>\n",
       "      <th>Average Relative Humidity (%)</th>\n",
       "      <th>Average Wind Speed (mph)</th>\n",
       "      <th>Average Station Pressure (mb)</th>\n",
       "      <th>Average Wind Direction (deg)</th>\n",
       "      <th>Max Wind Speed (mph)</th>\n",
       "    </tr>\n",
       "    <tr>\n",
       "      <th>Date/Time (GMT)</th>\n",
       "      <th></th>\n",
       "      <th></th>\n",
       "      <th></th>\n",
       "      <th></th>\n",
       "      <th></th>\n",
       "      <th></th>\n",
       "      <th></th>\n",
       "      <th></th>\n",
       "      <th></th>\n",
       "      <th></th>\n",
       "      <th></th>\n",
       "      <th></th>\n",
       "    </tr>\n",
       "  </thead>\n",
       "  <tbody>\n",
       "    <tr>\n",
       "      <th>2001-01-01 00:00:00</th>\n",
       "      <td>1</td>\n",
       "      <td>21.000000</td>\n",
       "      <td>21.000000</td>\n",
       "      <td>21.000000</td>\n",
       "      <td>6.100000</td>\n",
       "      <td>NaN</td>\n",
       "      <td>NaN</td>\n",
       "      <td>51.000000</td>\n",
       "      <td>12.70</td>\n",
       "      <td>1019.000000</td>\n",
       "      <td>270.000000</td>\n",
       "      <td>12.7</td>\n",
       "    </tr>\n",
       "    <tr>\n",
       "      <th>2001-01-01 01:00:00</th>\n",
       "      <td>1</td>\n",
       "      <td>19.900000</td>\n",
       "      <td>19.900000</td>\n",
       "      <td>19.900000</td>\n",
       "      <td>7.000000</td>\n",
       "      <td>NaN</td>\n",
       "      <td>NaN</td>\n",
       "      <td>56.000000</td>\n",
       "      <td>10.40</td>\n",
       "      <td>1019.000000</td>\n",
       "      <td>270.000000</td>\n",
       "      <td>10.4</td>\n",
       "    </tr>\n",
       "    <tr>\n",
       "      <th>2001-01-01 02:00:00</th>\n",
       "      <td>1</td>\n",
       "      <td>19.000000</td>\n",
       "      <td>19.000000</td>\n",
       "      <td>19.000000</td>\n",
       "      <td>7.000000</td>\n",
       "      <td>NaN</td>\n",
       "      <td>NaN</td>\n",
       "      <td>58.000000</td>\n",
       "      <td>16.10</td>\n",
       "      <td>1019.000000</td>\n",
       "      <td>270.000000</td>\n",
       "      <td>16.1</td>\n",
       "    </tr>\n",
       "    <tr>\n",
       "      <th>2001-01-01 03:00:00</th>\n",
       "      <td>1</td>\n",
       "      <td>19.000000</td>\n",
       "      <td>19.000000</td>\n",
       "      <td>19.000000</td>\n",
       "      <td>7.000000</td>\n",
       "      <td>NaN</td>\n",
       "      <td>NaN</td>\n",
       "      <td>58.000000</td>\n",
       "      <td>15.00</td>\n",
       "      <td>1018.599976</td>\n",
       "      <td>260.000000</td>\n",
       "      <td>15.0</td>\n",
       "    </tr>\n",
       "    <tr>\n",
       "      <th>2001-01-01 04:00:00</th>\n",
       "      <td>1</td>\n",
       "      <td>19.000000</td>\n",
       "      <td>19.000000</td>\n",
       "      <td>19.000000</td>\n",
       "      <td>6.100000</td>\n",
       "      <td>NaN</td>\n",
       "      <td>NaN</td>\n",
       "      <td>56.000000</td>\n",
       "      <td>16.10</td>\n",
       "      <td>1018.599976</td>\n",
       "      <td>280.000000</td>\n",
       "      <td>16.1</td>\n",
       "    </tr>\n",
       "    <tr>\n",
       "      <th>...</th>\n",
       "      <td>...</td>\n",
       "      <td>...</td>\n",
       "      <td>...</td>\n",
       "      <td>...</td>\n",
       "      <td>...</td>\n",
       "      <td>...</td>\n",
       "      <td>...</td>\n",
       "      <td>...</td>\n",
       "      <td>...</td>\n",
       "      <td>...</td>\n",
       "      <td>...</td>\n",
       "      <td>...</td>\n",
       "    </tr>\n",
       "    <tr>\n",
       "      <th>2023-12-31 19:00:00</th>\n",
       "      <td>13</td>\n",
       "      <td>40.720001</td>\n",
       "      <td>41.000000</td>\n",
       "      <td>39.200001</td>\n",
       "      <td>26.450001</td>\n",
       "      <td>NaN</td>\n",
       "      <td>NaN</td>\n",
       "      <td>56.689999</td>\n",
       "      <td>8.68</td>\n",
       "      <td>1014.500000</td>\n",
       "      <td>249.229996</td>\n",
       "      <td>12.7</td>\n",
       "    </tr>\n",
       "    <tr>\n",
       "      <th>2023-12-31 20:00:00</th>\n",
       "      <td>13</td>\n",
       "      <td>40.500000</td>\n",
       "      <td>41.000000</td>\n",
       "      <td>39.200001</td>\n",
       "      <td>26.450001</td>\n",
       "      <td>NaN</td>\n",
       "      <td>NaN</td>\n",
       "      <td>57.150002</td>\n",
       "      <td>5.95</td>\n",
       "      <td>1014.299988</td>\n",
       "      <td>255.000000</td>\n",
       "      <td>6.9</td>\n",
       "    </tr>\n",
       "    <tr>\n",
       "      <th>2023-12-31 21:00:00</th>\n",
       "      <td>13</td>\n",
       "      <td>39.250000</td>\n",
       "      <td>39.900002</td>\n",
       "      <td>39.200001</td>\n",
       "      <td>27.620001</td>\n",
       "      <td>NaN</td>\n",
       "      <td>NaN</td>\n",
       "      <td>63.000000</td>\n",
       "      <td>2.41</td>\n",
       "      <td>1014.500000</td>\n",
       "      <td>137.690002</td>\n",
       "      <td>5.8</td>\n",
       "    </tr>\n",
       "    <tr>\n",
       "      <th>2023-12-31 22:00:00</th>\n",
       "      <td>13</td>\n",
       "      <td>38.959999</td>\n",
       "      <td>39.200001</td>\n",
       "      <td>37.400002</td>\n",
       "      <td>27.110001</td>\n",
       "      <td>NaN</td>\n",
       "      <td>NaN</td>\n",
       "      <td>62.459999</td>\n",
       "      <td>0.00</td>\n",
       "      <td>1014.700012</td>\n",
       "      <td>0.000000</td>\n",
       "      <td>0.0</td>\n",
       "    </tr>\n",
       "    <tr>\n",
       "      <th>2023-12-31 23:00:00</th>\n",
       "      <td>13</td>\n",
       "      <td>38.910000</td>\n",
       "      <td>39.200001</td>\n",
       "      <td>37.400002</td>\n",
       "      <td>28.850000</td>\n",
       "      <td>NaN</td>\n",
       "      <td>NaN</td>\n",
       "      <td>67.309998</td>\n",
       "      <td>4.82</td>\n",
       "      <td>1015.000000</td>\n",
       "      <td>219.229996</td>\n",
       "      <td>6.9</td>\n",
       "    </tr>\n",
       "  </tbody>\n",
       "</table>\n",
       "<p>199738 rows × 12 columns</p>\n",
       "</div>"
      ],
      "text/plain": [
       "                     Number of Observations (n/a)  Average Temp (F)  \\\n",
       "Date/Time (GMT)                                                       \n",
       "2001-01-01 00:00:00                             1         21.000000   \n",
       "2001-01-01 01:00:00                             1         19.900000   \n",
       "2001-01-01 02:00:00                             1         19.000000   \n",
       "2001-01-01 03:00:00                             1         19.000000   \n",
       "2001-01-01 04:00:00                             1         19.000000   \n",
       "...                                           ...               ...   \n",
       "2023-12-31 19:00:00                            13         40.720001   \n",
       "2023-12-31 20:00:00                            13         40.500000   \n",
       "2023-12-31 21:00:00                            13         39.250000   \n",
       "2023-12-31 22:00:00                            13         38.959999   \n",
       "2023-12-31 23:00:00                            13         38.910000   \n",
       "\n",
       "                     Max Temp (F)  Min Temp (F)  Average Dewpoint Temp (F)  \\\n",
       "Date/Time (GMT)                                                              \n",
       "2001-01-01 00:00:00     21.000000     21.000000                   6.100000   \n",
       "2001-01-01 01:00:00     19.900000     19.900000                   7.000000   \n",
       "2001-01-01 02:00:00     19.000000     19.000000                   7.000000   \n",
       "2001-01-01 03:00:00     19.000000     19.000000                   7.000000   \n",
       "2001-01-01 04:00:00     19.000000     19.000000                   6.100000   \n",
       "...                           ...           ...                        ...   \n",
       "2023-12-31 19:00:00     41.000000     39.200001                  26.450001   \n",
       "2023-12-31 20:00:00     41.000000     39.200001                  26.450001   \n",
       "2023-12-31 21:00:00     39.900002     39.200001                  27.620001   \n",
       "2023-12-31 22:00:00     39.200001     37.400002                  27.110001   \n",
       "2023-12-31 23:00:00     39.200001     37.400002                  28.850000   \n",
       "\n",
       "                     1 Hour Precip (in)  Max Wind Gust (mph)  \\\n",
       "Date/Time (GMT)                                                \n",
       "2001-01-01 00:00:00                 NaN                  NaN   \n",
       "2001-01-01 01:00:00                 NaN                  NaN   \n",
       "2001-01-01 02:00:00                 NaN                  NaN   \n",
       "2001-01-01 03:00:00                 NaN                  NaN   \n",
       "2001-01-01 04:00:00                 NaN                  NaN   \n",
       "...                                 ...                  ...   \n",
       "2023-12-31 19:00:00                 NaN                  NaN   \n",
       "2023-12-31 20:00:00                 NaN                  NaN   \n",
       "2023-12-31 21:00:00                 NaN                  NaN   \n",
       "2023-12-31 22:00:00                 NaN                  NaN   \n",
       "2023-12-31 23:00:00                 NaN                  NaN   \n",
       "\n",
       "                     Average Relative Humidity (%)  Average Wind Speed (mph)  \\\n",
       "Date/Time (GMT)                                                                \n",
       "2001-01-01 00:00:00                      51.000000                     12.70   \n",
       "2001-01-01 01:00:00                      56.000000                     10.40   \n",
       "2001-01-01 02:00:00                      58.000000                     16.10   \n",
       "2001-01-01 03:00:00                      58.000000                     15.00   \n",
       "2001-01-01 04:00:00                      56.000000                     16.10   \n",
       "...                                            ...                       ...   \n",
       "2023-12-31 19:00:00                      56.689999                      8.68   \n",
       "2023-12-31 20:00:00                      57.150002                      5.95   \n",
       "2023-12-31 21:00:00                      63.000000                      2.41   \n",
       "2023-12-31 22:00:00                      62.459999                      0.00   \n",
       "2023-12-31 23:00:00                      67.309998                      4.82   \n",
       "\n",
       "                     Average Station Pressure (mb)  \\\n",
       "Date/Time (GMT)                                      \n",
       "2001-01-01 00:00:00                    1019.000000   \n",
       "2001-01-01 01:00:00                    1019.000000   \n",
       "2001-01-01 02:00:00                    1019.000000   \n",
       "2001-01-01 03:00:00                    1018.599976   \n",
       "2001-01-01 04:00:00                    1018.599976   \n",
       "...                                            ...   \n",
       "2023-12-31 19:00:00                    1014.500000   \n",
       "2023-12-31 20:00:00                    1014.299988   \n",
       "2023-12-31 21:00:00                    1014.500000   \n",
       "2023-12-31 22:00:00                    1014.700012   \n",
       "2023-12-31 23:00:00                    1015.000000   \n",
       "\n",
       "                     Average Wind Direction (deg)  Max Wind Speed (mph)  \n",
       "Date/Time (GMT)                                                          \n",
       "2001-01-01 00:00:00                    270.000000                  12.7  \n",
       "2001-01-01 01:00:00                    270.000000                  10.4  \n",
       "2001-01-01 02:00:00                    270.000000                  16.1  \n",
       "2001-01-01 03:00:00                    260.000000                  15.0  \n",
       "2001-01-01 04:00:00                    280.000000                  16.1  \n",
       "...                                           ...                   ...  \n",
       "2023-12-31 19:00:00                    249.229996                  12.7  \n",
       "2023-12-31 20:00:00                    255.000000                   6.9  \n",
       "2023-12-31 21:00:00                    137.690002                   5.8  \n",
       "2023-12-31 22:00:00                      0.000000                   0.0  \n",
       "2023-12-31 23:00:00                    219.229996                   6.9  \n",
       "\n",
       "[199738 rows x 12 columns]"
      ]
     },
     "execution_count": 37,
     "metadata": {},
     "output_type": "execute_result"
    }
   ],
   "source": [
    "# ANSWER\n",
    "df_temps = df_temps[df_temps.index.year != 2000]\n",
    "df_temps"
   ]
  },
  {
   "cell_type": "markdown",
   "metadata": {},
   "source": [
    "---\n",
    "**33)**\t[P] Use Seaborn to generate a line plot of the average temperature over the entire time period contained in the data. It's a lot of data, so it may take a few seconds or so to generate.\n"
   ]
  },
  {
   "cell_type": "code",
   "execution_count": 38,
   "metadata": {},
   "outputs": [
    {
     "data": {
      "text/plain": [
       "Text(0.5, 1.0, 'Average Annual Temp for Williamsport, PA')"
      ]
     },
     "execution_count": 38,
     "metadata": {},
     "output_type": "execute_result"
    },
    {
     "data": {
      "image/png": "[encoded data removed]",
      "text/plain": [
       "<Figure size 640x480 with 1 Axes>"
      ]
     },
     "metadata": {},
     "output_type": "display_data"
    }
   ],
   "source": [
    "# ANSWER\n",
    "sns.lineplot(x = \"Date/Time (GMT)\", y = \"Average Temp (F)\", data = df_temps, marker = 'o')\n",
    "plt.title(\"Average Annual Temp for Williamsport, PA\")\n"
   ]
  },
  {
   "cell_type": "markdown",
   "metadata": {
    "collapsed": false,
    "jupyter": {
     "outputs_hidden": false
    }
   },
   "source": [
    "---\n",
    "**34)**\t[P] That previous plot is a bit ridiculous. You really need to aggregate your data over some time interval. The most meaningful one will be by year. Compute the mean of the hourly average temperature for each year plot this annual value. (HINT: The `resample()` method will again make this incredibly easy to do!)"
   ]
  },
  {
   "cell_type": "code",
   "execution_count": 39,
   "metadata": {},
   "outputs": [
    {
     "data": {
      "text/plain": [
       "Text(0.5, 1.0, 'Average Annual Temp for Williamsport, PA')"
      ]
     },
     "execution_count": 39,
     "metadata": {},
     "output_type": "execute_result"
    },
    {
     "data": {
      "image/png": "[encoded data removed]",
      "text/plain": [
       "<Figure size 640x480 with 1 Axes>"
      ]
     },
     "metadata": {},
     "output_type": "display_data"
    }
   ],
   "source": [
    "# ANSWER\n",
    "resampled_data = df_temps.resample('Y').mean()\n",
    "sns.lineplot(x = resampled_data.index, y = \"Average Temp (F)\", data = resampled_data, marker = 'o')\n",
    "plt.title(\"Average Annual Temp for Williamsport, PA\")"
   ]
  },
  {
   "cell_type": "markdown",
   "metadata": {
    "collapsed": false,
    "jupyter": {
     "outputs_hidden": false
    }
   },
   "source": [
    "---\n",
    "**35)** [P] For your final question, redraw the above plot with the addition of a linear regression line that shows uncertainty around the line (HINT: `sns.regplot` will make this easy.). Without surprise these days, it'll show a steady upward trend in the average temperature over the years. \n"
   ]
  },
  {
   "cell_type": "code",
   "execution_count": 40,
   "metadata": {
    "collapsed": false,
    "jupyter": {
     "outputs_hidden": false
    }
   },
   "outputs": [
    {
     "data": {
      "image/png": "[encoded data removed]",
      "text/plain": [
       "<Figure size 640x480 with 1 Axes>"
      ]
     },
     "metadata": {},
     "output_type": "display_data"
    }
   ],
   "source": [
    "# ANSWER\n",
    "resampled_data['NumericDate'] = resampled_data.index.map(lambda x: x.value)\n",
    "\n",
    "sns.lineplot(x='NumericDate', y=\"Average Temp (F)\", data=resampled_data, marker='o', label='Data')\n",
    "sns.regplot(x='NumericDate', y=\"Average Temp (F)\", data=resampled_data, scatter=True, label='Regression line', order = 2)\n",
    "\n",
    "plt.title(\"Average Annual Temp for Williamsport, PA\")\n",
    "plt.xlabel(\"Date/Time (GMT)\")\n",
    "plt.grid(True)\n",
    "plt.show()\n"
   ]
  },
  {
   "cell_type": "markdown",
   "metadata": {
    "collapsed": false,
    "jupyter": {
     "outputs_hidden": false
    }
   },
   "source": [
    "---\n",
    "Congratulations! At this point, you performed your first real-world example of what you need to go through to complete basic preprocessing steps!\n",
    "\n",
    "Before you consider your work complete, please verify that your plots looks good. They have a title, and the axes are labeled. You should have a legend if necessary. And, you should have a grid. These are all basic, but important steps to make sure your plots are interpretable by others.\n",
    "\n",
    "# Deliverables\n",
    "1.\tBe sure you have every cell run, and output generated.\n",
    "2.\tCommit and push `lab06.ipynb`. Verify that your file is pushed properly on Gitlab.\n",
    "3.\tGenerate a paginated PDF file of your notebook and upload to Gradescope\n",
    "4.\tBe sure to select the pages that have the specified questions, and submit when done\n"
   ]
  }
 ],
 "metadata": {
  "kernelspec": {
   "display_name": "Python 3 (ipykernel)",
   "language": "python",
   "name": "python3"
  },
  "language_info": {
   "codemirror_mode": {
    "name": "ipython",
    "version": 3
   },
   "file_extension": ".py",
   "mimetype": "text/x-python",
   "name": "python",
   "nbconvert_exporter": "python",
   "pygments_lexer": "ipython3",
   "version": "3.10.13"
  }
 },
 "nbformat": 4,
 "nbformat_minor": 4
}
